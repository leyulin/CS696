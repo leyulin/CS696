{
 "cells": [
  {
   "cell_type": "markdown",
   "metadata": {},
   "source": [
    "# Midterm\n",
    "#### leyu,lin(Jack) 817372912"
   ]
  },
  {
   "cell_type": "markdown",
   "metadata": {},
   "source": [
    "[![]( https://img.shields.io/badge/Python-v3.7-orange)]()\n",
    "[![](https://img.shields.io/badge/pandas-v1-blue)]()\n",
    "[![](https://img.shields.io/badge/sklearn-v0.2-red)]()"
   ]
  },
  {
   "cell_type": "markdown",
   "metadata": {},
   "source": [
    "### Imports"
   ]
  },
  {
   "cell_type": "code",
   "execution_count": 1,
   "metadata": {},
   "outputs": [],
   "source": [
    "import pandas as pd\n",
    "import numpy as np\n",
    "import matplotlib.pylab as plt\n",
    "import seaborn as sns\n",
    "from datetime import datetime\n",
    "import os \n",
    "import glob\n",
    "from sklearn import tree\n",
    "from sklearn.feature_extraction import DictVectorizer\n",
    "from sklearn.model_selection import train_test_split\n",
    "from sklearn.preprocessing import LabelEncoder\n",
    "from sklearn.linear_model import LogisticRegression\n",
    "from sklearn.metrics import accuracy_score"
   ]
  },
  {
   "cell_type": "markdown",
   "metadata": {},
   "source": [
    "### Data File Paths"
   ]
  },
  {
   "cell_type": "code",
   "execution_count": 2,
   "metadata": {},
   "outputs": [],
   "source": [
    "covid_confirmed_usafacts = 'covid_confirmed_usafacts.csv'\n",
    "covid_county_population_usafacts = 'covid_county_population_usafacts.csv'\n",
    "covid_deaths_usafacts = 'covid_deaths_usafacts.csv'\n",
    "\n",
    "name_path = 'names'"
   ]
  },
  {
   "cell_type": "markdown",
   "metadata": {},
   "source": [
    "### Create Panda DataFrame"
   ]
  },
  {
   "cell_type": "code",
   "execution_count": 3,
   "metadata": {},
   "outputs": [],
   "source": [
    "df_case = pd.read_csv(covid_confirmed_usafacts)\n",
    "df_population = pd.read_csv(covid_county_population_usafacts)\n",
    "df_deaths = pd.read_csv(covid_deaths_usafacts)"
   ]
  },
  {
   "cell_type": "markdown",
   "metadata": {},
   "source": [
    "## Questions"
   ]
  },
  {
   "cell_type": "markdown",
   "metadata": {},
   "source": [
    "#### 1. Compute the total confirmed cases per day in the country. Produce a table and a line plot."
   ]
  },
  {
   "cell_type": "code",
   "execution_count": 4,
   "metadata": {},
   "outputs": [],
   "source": [
    "# select columns need to sum up\n",
    "all_cases = df_case[[col for col in df_case.columns if '2020' in col]].copy()\n",
    "\n",
    "# sum up columns\n",
    "all_cases.loc['total_case'] = all_cases.apply(lambda x: x.sum())"
   ]
  },
  {
   "cell_type": "code",
   "execution_count": 5,
   "metadata": {},
   "outputs": [
    {
     "data": {
      "text/html": [
       "<div>\n",
       "<style scoped>\n",
       "    .dataframe tbody tr th:only-of-type {\n",
       "        vertical-align: middle;\n",
       "    }\n",
       "\n",
       "    .dataframe tbody tr th {\n",
       "        vertical-align: top;\n",
       "    }\n",
       "\n",
       "    .dataframe thead th {\n",
       "        text-align: right;\n",
       "    }\n",
       "</style>\n",
       "<table border=\"1\" class=\"dataframe\">\n",
       "  <thead>\n",
       "    <tr style=\"text-align: right;\">\n",
       "      <th></th>\n",
       "      <th>date</th>\n",
       "      <th>total_cases</th>\n",
       "    </tr>\n",
       "  </thead>\n",
       "  <tbody>\n",
       "    <tr>\n",
       "      <th>0</th>\n",
       "      <td>1/22/2020</td>\n",
       "      <td>1</td>\n",
       "    </tr>\n",
       "    <tr>\n",
       "      <th>1</th>\n",
       "      <td>1/23/2020</td>\n",
       "      <td>1</td>\n",
       "    </tr>\n",
       "    <tr>\n",
       "      <th>2</th>\n",
       "      <td>1/24/2020</td>\n",
       "      <td>2</td>\n",
       "    </tr>\n",
       "    <tr>\n",
       "      <th>3</th>\n",
       "      <td>1/25/2020</td>\n",
       "      <td>2</td>\n",
       "    </tr>\n",
       "    <tr>\n",
       "      <th>4</th>\n",
       "      <td>1/26/2020</td>\n",
       "      <td>5</td>\n",
       "    </tr>\n",
       "    <tr>\n",
       "      <th>...</th>\n",
       "      <td>...</td>\n",
       "      <td>...</td>\n",
       "    </tr>\n",
       "    <tr>\n",
       "      <th>71</th>\n",
       "      <td>4/2/2020</td>\n",
       "      <td>241643</td>\n",
       "    </tr>\n",
       "    <tr>\n",
       "      <th>72</th>\n",
       "      <td>4/3/2020</td>\n",
       "      <td>276889</td>\n",
       "    </tr>\n",
       "    <tr>\n",
       "      <th>73</th>\n",
       "      <td>4/4/2020</td>\n",
       "      <td>310597</td>\n",
       "    </tr>\n",
       "    <tr>\n",
       "      <th>74</th>\n",
       "      <td>4/5/2020</td>\n",
       "      <td>335338</td>\n",
       "    </tr>\n",
       "    <tr>\n",
       "      <th>75</th>\n",
       "      <td>4/6/2020</td>\n",
       "      <td>365115</td>\n",
       "    </tr>\n",
       "  </tbody>\n",
       "</table>\n",
       "<p>76 rows × 2 columns</p>\n",
       "</div>"
      ],
      "text/plain": [
       "         date  total_cases\n",
       "0   1/22/2020            1\n",
       "1   1/23/2020            1\n",
       "2   1/24/2020            2\n",
       "3   1/25/2020            2\n",
       "4   1/26/2020            5\n",
       "..        ...          ...\n",
       "71   4/2/2020       241643\n",
       "72   4/3/2020       276889\n",
       "73   4/4/2020       310597\n",
       "74   4/5/2020       335338\n",
       "75   4/6/2020       365115\n",
       "\n",
       "[76 rows x 2 columns]"
      ]
     },
     "execution_count": 5,
     "metadata": {},
     "output_type": "execute_result"
    },
    {
     "data": {
      "image/png": "[encoded data removed]",
      "text/plain": [
       "<Figure size 720x432 with 1 Axes>"
      ]
     },
     "metadata": {
      "needs_background": "light"
     },
     "output_type": "display_data"
    }
   ],
   "source": [
    "#display result\n",
    "df_q1= all_cases.iloc[-1:]\n",
    "\n",
    "#create new table with date and cases\n",
    "df_q1 = df_q1.stack().reset_index(-1).iloc[:, ::-1]\n",
    "df_q1.columns = ['total_cases', 'date']\n",
    "\n",
    "#line plot\n",
    "df_q1.plot(x='date', y='total_cases',rot=45,\n",
    "                title='Confirmed cases per day in USA',\n",
    "                grid=True,\n",
    "                style='*-',\n",
    "                figsize=(10,6))\n",
    "\n",
    "df_q1 = df_q1[['date','total_cases']]\n",
    "df_q1.reset_index(drop=True, inplace=True)\n",
    "df_q1"
   ]
  },
  {
   "cell_type": "markdown",
   "metadata": {},
   "source": [
    "#### 2. Compute the total confirmed cases per week in the country. Produce a table of results. Plot the results using a log line plot. That is the log of the number of cases. A log plot of an exponential process will produce a straight line. Does the resulting plot look like an exponential?"
   ]
  },
  {
   "cell_type": "code",
   "execution_count": 6,
   "metadata": {},
   "outputs": [
    {
     "data": {
      "text/html": [
       "<div>\n",
       "<style scoped>\n",
       "    .dataframe tbody tr th:only-of-type {\n",
       "        vertical-align: middle;\n",
       "    }\n",
       "\n",
       "    .dataframe tbody tr th {\n",
       "        vertical-align: top;\n",
       "    }\n",
       "\n",
       "    .dataframe thead th {\n",
       "        text-align: right;\n",
       "    }\n",
       "</style>\n",
       "<table border=\"1\" class=\"dataframe\">\n",
       "  <thead>\n",
       "    <tr style=\"text-align: right;\">\n",
       "      <th></th>\n",
       "      <th>weeks</th>\n",
       "      <th>total_cases</th>\n",
       "    </tr>\n",
       "  </thead>\n",
       "  <tbody>\n",
       "    <tr>\n",
       "      <th>0</th>\n",
       "      <td>4</td>\n",
       "      <td>5</td>\n",
       "    </tr>\n",
       "    <tr>\n",
       "      <th>1</th>\n",
       "      <td>5</td>\n",
       "      <td>9</td>\n",
       "    </tr>\n",
       "    <tr>\n",
       "      <th>2</th>\n",
       "      <td>6</td>\n",
       "      <td>11</td>\n",
       "    </tr>\n",
       "    <tr>\n",
       "      <th>3</th>\n",
       "      <td>7</td>\n",
       "      <td>13</td>\n",
       "    </tr>\n",
       "    <tr>\n",
       "      <th>4</th>\n",
       "      <td>8</td>\n",
       "      <td>15</td>\n",
       "    </tr>\n",
       "    <tr>\n",
       "      <th>5</th>\n",
       "      <td>9</td>\n",
       "      <td>30</td>\n",
       "    </tr>\n",
       "    <tr>\n",
       "      <th>6</th>\n",
       "      <td>10</td>\n",
       "      <td>477</td>\n",
       "    </tr>\n",
       "    <tr>\n",
       "      <th>7</th>\n",
       "      <td>11</td>\n",
       "      <td>3643</td>\n",
       "    </tr>\n",
       "    <tr>\n",
       "      <th>8</th>\n",
       "      <td>12</td>\n",
       "      <td>33469</td>\n",
       "    </tr>\n",
       "    <tr>\n",
       "      <th>9</th>\n",
       "      <td>13</td>\n",
       "      <td>141409</td>\n",
       "    </tr>\n",
       "    <tr>\n",
       "      <th>10</th>\n",
       "      <td>14</td>\n",
       "      <td>335338</td>\n",
       "    </tr>\n",
       "    <tr>\n",
       "      <th>11</th>\n",
       "      <td>15</td>\n",
       "      <td>365115</td>\n",
       "    </tr>\n",
       "  </tbody>\n",
       "</table>\n",
       "</div>"
      ],
      "text/plain": [
       "    weeks  total_cases\n",
       "0       4            5\n",
       "1       5            9\n",
       "2       6           11\n",
       "3       7           13\n",
       "4       8           15\n",
       "5       9           30\n",
       "6      10          477\n",
       "7      11         3643\n",
       "8      12        33469\n",
       "9      13       141409\n",
       "10     14       335338\n",
       "11     15       365115"
      ]
     },
     "execution_count": 6,
     "metadata": {},
     "output_type": "execute_result"
    },
    {
     "data": {
      "image/png": "[encoded data removed]",
      "text/plain": [
       "<Figure size 576x432 with 1 Axes>"
      ]
     },
     "metadata": {
      "needs_background": "light"
     },
     "output_type": "display_data"
    }
   ],
   "source": [
    "dt_date =  pd.to_datetime(df_q1['date'])\n",
    "dt_weeks = dt_date.dt.week\n",
    "\n",
    "#get total case per weeks by take max of each week\n",
    "df_cases_weeks = df_q1.groupby(dt_weeks)['total_cases'].max().reset_index()\n",
    "cases_weeks = df_cases_weeks.rename(columns={'date':'weeks'})\n",
    "\n",
    "cases_weeks.plot(x='weeks', y='total_cases',\n",
    "                title='Confirmed cases per week in USA',\n",
    "                logy=True,\n",
    "                grid=True,\n",
    "                style='o-',\n",
    "                figsize=(8,6))\n",
    "\n",
    "cases_weeks"
   ]
  },
  {
   "cell_type": "markdown",
   "metadata": {},
   "source": [
    "### Does the resulting plot look like an exponential?\n",
    "* The results seems partial exponential, from above fig can tell from week 9 to 14 almost a staright line. There was tremendous increasing from week 9 to week 14"
   ]
  },
  {
   "cell_type": "markdown",
   "metadata": {},
   "source": [
    "#### 3. Compute the number of new confirmed cases per week in the the country. Produce a table of results."
   ]
  },
  {
   "cell_type": "code",
   "execution_count": 7,
   "metadata": {},
   "outputs": [
    {
     "data": {
      "text/html": [
       "<div>\n",
       "<style scoped>\n",
       "    .dataframe tbody tr th:only-of-type {\n",
       "        vertical-align: middle;\n",
       "    }\n",
       "\n",
       "    .dataframe tbody tr th {\n",
       "        vertical-align: top;\n",
       "    }\n",
       "\n",
       "    .dataframe thead th {\n",
       "        text-align: right;\n",
       "    }\n",
       "</style>\n",
       "<table border=\"1\" class=\"dataframe\">\n",
       "  <thead>\n",
       "    <tr style=\"text-align: right;\">\n",
       "      <th></th>\n",
       "      <th>previous_week</th>\n",
       "      <th>next_week</th>\n",
       "      <th>period</th>\n",
       "      <th>new_cases</th>\n",
       "    </tr>\n",
       "  </thead>\n",
       "  <tbody>\n",
       "    <tr>\n",
       "      <th>0</th>\n",
       "      <td>4</td>\n",
       "      <td>5</td>\n",
       "      <td>1</td>\n",
       "      <td>4</td>\n",
       "    </tr>\n",
       "    <tr>\n",
       "      <th>1</th>\n",
       "      <td>5</td>\n",
       "      <td>6</td>\n",
       "      <td>1</td>\n",
       "      <td>2</td>\n",
       "    </tr>\n",
       "    <tr>\n",
       "      <th>2</th>\n",
       "      <td>6</td>\n",
       "      <td>7</td>\n",
       "      <td>1</td>\n",
       "      <td>2</td>\n",
       "    </tr>\n",
       "    <tr>\n",
       "      <th>3</th>\n",
       "      <td>7</td>\n",
       "      <td>8</td>\n",
       "      <td>1</td>\n",
       "      <td>2</td>\n",
       "    </tr>\n",
       "    <tr>\n",
       "      <th>4</th>\n",
       "      <td>8</td>\n",
       "      <td>9</td>\n",
       "      <td>1</td>\n",
       "      <td>15</td>\n",
       "    </tr>\n",
       "    <tr>\n",
       "      <th>5</th>\n",
       "      <td>9</td>\n",
       "      <td>10</td>\n",
       "      <td>1</td>\n",
       "      <td>447</td>\n",
       "    </tr>\n",
       "    <tr>\n",
       "      <th>6</th>\n",
       "      <td>10</td>\n",
       "      <td>11</td>\n",
       "      <td>1</td>\n",
       "      <td>3166</td>\n",
       "    </tr>\n",
       "    <tr>\n",
       "      <th>7</th>\n",
       "      <td>11</td>\n",
       "      <td>12</td>\n",
       "      <td>1</td>\n",
       "      <td>29826</td>\n",
       "    </tr>\n",
       "    <tr>\n",
       "      <th>8</th>\n",
       "      <td>12</td>\n",
       "      <td>13</td>\n",
       "      <td>1</td>\n",
       "      <td>107940</td>\n",
       "    </tr>\n",
       "    <tr>\n",
       "      <th>9</th>\n",
       "      <td>13</td>\n",
       "      <td>14</td>\n",
       "      <td>1</td>\n",
       "      <td>193929</td>\n",
       "    </tr>\n",
       "    <tr>\n",
       "      <th>10</th>\n",
       "      <td>14</td>\n",
       "      <td>15</td>\n",
       "      <td>1</td>\n",
       "      <td>29777</td>\n",
       "    </tr>\n",
       "  </tbody>\n",
       "</table>\n",
       "</div>"
      ],
      "text/plain": [
       "    previous_week  next_week  period  new_cases\n",
       "0               4          5       1          4\n",
       "1               5          6       1          2\n",
       "2               6          7       1          2\n",
       "3               7          8       1          2\n",
       "4               8          9       1         15\n",
       "5               9         10       1        447\n",
       "6              10         11       1       3166\n",
       "7              11         12       1      29826\n",
       "8              12         13       1     107940\n",
       "9              13         14       1     193929\n",
       "10             14         15       1      29777"
      ]
     },
     "execution_count": 7,
     "metadata": {},
     "output_type": "execute_result"
    }
   ],
   "source": [
    "# compute new cases use last week subtract previous week\n",
    "list_new_case = []\n",
    "list_week =[]\n",
    "for i in range(len('total_cases')):\n",
    "    val = cases_weeks.loc[i+1] - cases_weeks.loc[i]\n",
    "    period = (cases_weeks['weeks'].loc[i],cases_weeks['weeks'].loc[i+1])  \n",
    "    list_new_case.append(val)\n",
    "    list_week.append(period)\n",
    "df_new_case = pd.DataFrame(list_new_case)\n",
    "df_period = pd.DataFrame(list_week)\n",
    "df_new_case= pd.concat([df_new_case, df_period], axis=1)\n",
    "\n",
    "df_new_case.columns =['period',\n",
    "                      'new_cases',\n",
    "                      'previous_week',\n",
    "                      'next_week']\n",
    "\n",
    "df_new_case[['previous_week','next_week','period','new_cases']]"
   ]
  },
  {
   "cell_type": "markdown",
   "metadata": {},
   "source": [
    "#### 4. Repeat #2 with the number of known deaths."
   ]
  },
  {
   "cell_type": "code",
   "execution_count": 8,
   "metadata": {},
   "outputs": [
    {
     "data": {
      "text/html": [
       "<div>\n",
       "<style scoped>\n",
       "    .dataframe tbody tr th:only-of-type {\n",
       "        vertical-align: middle;\n",
       "    }\n",
       "\n",
       "    .dataframe tbody tr th {\n",
       "        vertical-align: top;\n",
       "    }\n",
       "\n",
       "    .dataframe thead th {\n",
       "        text-align: right;\n",
       "    }\n",
       "</style>\n",
       "<table border=\"1\" class=\"dataframe\">\n",
       "  <thead>\n",
       "    <tr style=\"text-align: right;\">\n",
       "      <th></th>\n",
       "      <th>weeks</th>\n",
       "      <th>known_deaths</th>\n",
       "    </tr>\n",
       "  </thead>\n",
       "  <tbody>\n",
       "    <tr>\n",
       "      <th>5</th>\n",
       "      <td>9</td>\n",
       "      <td>1.0</td>\n",
       "    </tr>\n",
       "    <tr>\n",
       "      <th>6</th>\n",
       "      <td>10</td>\n",
       "      <td>22.0</td>\n",
       "    </tr>\n",
       "    <tr>\n",
       "      <th>7</th>\n",
       "      <td>11</td>\n",
       "      <td>68.0</td>\n",
       "    </tr>\n",
       "    <tr>\n",
       "      <th>8</th>\n",
       "      <td>12</td>\n",
       "      <td>416.0</td>\n",
       "    </tr>\n",
       "    <tr>\n",
       "      <th>9</th>\n",
       "      <td>13</td>\n",
       "      <td>2458.0</td>\n",
       "    </tr>\n",
       "    <tr>\n",
       "      <th>10</th>\n",
       "      <td>14</td>\n",
       "      <td>9547.0</td>\n",
       "    </tr>\n",
       "    <tr>\n",
       "      <th>11</th>\n",
       "      <td>15</td>\n",
       "      <td>10848.0</td>\n",
       "    </tr>\n",
       "  </tbody>\n",
       "</table>\n",
       "</div>"
      ],
      "text/plain": [
       "    weeks  known_deaths\n",
       "5       9           1.0\n",
       "6      10          22.0\n",
       "7      11          68.0\n",
       "8      12         416.0\n",
       "9      13        2458.0\n",
       "10     14        9547.0\n",
       "11     15       10848.0"
      ]
     },
     "execution_count": 8,
     "metadata": {},
     "output_type": "execute_result"
    },
    {
     "data": {
      "image/png": "[encoded data removed]",
      "text/plain": [
       "<Figure size 576x432 with 1 Axes>"
      ]
     },
     "metadata": {
      "needs_background": "light"
     },
     "output_type": "display_data"
    }
   ],
   "source": [
    "# count deaths cases for each day \n",
    "day_deaths = df_deaths[[col for col in df_deaths.columns if '2020' in col]].copy()\n",
    "day_deaths.loc['total_deaths'] = day_deaths.apply(lambda x: x.sum())\n",
    "\n",
    "#similar to question 1 and question 2\n",
    "day_deaths= day_deaths.iloc[-1:]\n",
    "day_deaths = day_deaths.stack().reset_index(-1).iloc[:, ::-1]\n",
    "day_deaths.columns = ['known_deaths', 'date']\n",
    "\n",
    "# count deaths per week\n",
    "dt_date =  pd.to_datetime(day_deaths['date'])\n",
    "dt_weeks = dt_date.dt.week\n",
    "df_deaths_weeks = day_deaths.groupby(dt_weeks)['known_deaths'].max().reset_index()\n",
    "deaths_weeks = df_deaths_weeks.rename(columns={'date':'weeks'})\n",
    "\n",
    "# pick death is 'known' or greater than 0\n",
    "deaths_weeks = deaths_weeks[deaths_weeks['known_deaths'] > 0]\n",
    "\n",
    "# line plot\n",
    "deaths_weeks.plot(x='weeks', y='known_deaths',\n",
    "                title='Confirmed deaths per week in USA',\n",
    "                logy=True,\n",
    "                grid=True,\n",
    "                style='o-',\n",
    "                figsize=(8,6))\n",
    "\n",
    "deaths_weeks"
   ]
  },
  {
   "cell_type": "markdown",
   "metadata": {},
   "source": [
    "### Does the resulting plot look like an exponential?\n",
    "* The results seems almost exponential, from above fig can tell from week 10 to 14 is a staright line. There was tremendous increasing from week 10 to week 14"
   ]
  },
  {
   "cell_type": "markdown",
   "metadata": {},
   "source": [
    "#### 5. Find the 10 counties with the most known number of covid-19 cases. Plot the number of cases each week. What are the differences or similarities?"
   ]
  },
  {
   "cell_type": "code",
   "execution_count": 9,
   "metadata": {},
   "outputs": [
    {
     "data": {
      "text/html": [
       "<div>\n",
       "<style scoped>\n",
       "    .dataframe tbody tr th:only-of-type {\n",
       "        vertical-align: middle;\n",
       "    }\n",
       "\n",
       "    .dataframe tbody tr th {\n",
       "        vertical-align: top;\n",
       "    }\n",
       "\n",
       "    .dataframe thead th {\n",
       "        text-align: right;\n",
       "    }\n",
       "</style>\n",
       "<table border=\"1\" class=\"dataframe\">\n",
       "  <thead>\n",
       "    <tr style=\"text-align: right;\">\n",
       "      <th></th>\n",
       "      <th>County Name</th>\n",
       "      <th>State</th>\n",
       "      <th>counties_cases</th>\n",
       "    </tr>\n",
       "  </thead>\n",
       "  <tbody>\n",
       "    <tr>\n",
       "      <th>2368</th>\n",
       "      <td>Queens County</td>\n",
       "      <td>NY</td>\n",
       "      <td>23133</td>\n",
       "    </tr>\n",
       "    <tr>\n",
       "      <th>1509</th>\n",
       "      <td>Kings County</td>\n",
       "      <td>NY</td>\n",
       "      <td>19702</td>\n",
       "    </tr>\n",
       "    <tr>\n",
       "      <th>2043</th>\n",
       "      <td>Nassau County</td>\n",
       "      <td>NY</td>\n",
       "      <td>15616</td>\n",
       "    </tr>\n",
       "    <tr>\n",
       "      <th>275</th>\n",
       "      <td>Bronx County</td>\n",
       "      <td>NY</td>\n",
       "      <td>14327</td>\n",
       "    </tr>\n",
       "    <tr>\n",
       "      <th>3075</th>\n",
       "      <td>Westchester County</td>\n",
       "      <td>NY</td>\n",
       "      <td>14294</td>\n",
       "    </tr>\n",
       "    <tr>\n",
       "      <th>2766</th>\n",
       "      <td>Suffolk County</td>\n",
       "      <td>NY</td>\n",
       "      <td>13487</td>\n",
       "    </tr>\n",
       "    <tr>\n",
       "      <th>2065</th>\n",
       "      <td>New York County</td>\n",
       "      <td>NY</td>\n",
       "      <td>10440</td>\n",
       "    </tr>\n",
       "    <tr>\n",
       "      <th>629</th>\n",
       "      <td>Cook County</td>\n",
       "      <td>IL</td>\n",
       "      <td>8728</td>\n",
       "    </tr>\n",
       "    <tr>\n",
       "      <th>3046</th>\n",
       "      <td>Wayne County</td>\n",
       "      <td>MI</td>\n",
       "      <td>8270</td>\n",
       "    </tr>\n",
       "    <tr>\n",
       "      <th>189</th>\n",
       "      <td>Bergen County</td>\n",
       "      <td>NJ</td>\n",
       "      <td>6862</td>\n",
       "    </tr>\n",
       "  </tbody>\n",
       "</table>\n",
       "</div>"
      ],
      "text/plain": [
       "             County Name State  counties_cases\n",
       "2368       Queens County    NY           23133\n",
       "1509        Kings County    NY           19702\n",
       "2043       Nassau County    NY           15616\n",
       "275         Bronx County    NY           14327\n",
       "3075  Westchester County    NY           14294\n",
       "2766      Suffolk County    NY           13487\n",
       "2065     New York County    NY           10440\n",
       "629          Cook County    IL            8728\n",
       "3046        Wayne County    MI            8270\n",
       "189        Bergen County    NJ            6862"
      ]
     },
     "execution_count": 9,
     "metadata": {},
     "output_type": "execute_result"
    }
   ],
   "source": [
    "# select columns need to compare\n",
    "counties_cases = df_case[[col for col in df_case.columns if '2020' in col]]\n",
    "\n",
    "# find out total cases by counties\n",
    "df_case['counties_cases'] = counties_cases.apply(lambda x: x.max(), axis =1)\n",
    "df_counties_cases = df_case.groupby(['County Name','State'])[\n",
    "                                'counties_cases'].sum().reset_index()\n",
    "\n",
    "# show most 10 cases of counties, filter out 'unknown counties'\n",
    "df_most10_counties = df_counties_cases[df_counties_cases['County Name']\n",
    "                              .str.contains('County')].nlargest(10,'counties_cases')\n",
    "df_most10_counties\n"
   ]
  },
  {
   "cell_type": "code",
   "execution_count": 10,
   "metadata": {},
   "outputs": [
    {
     "data": {
      "image/png": "[encoded data removed]",
      "text/plain": [
       "<Figure size 1008x1152 with 2 Axes>"
      ]
     },
     "metadata": {
      "needs_background": "light"
     },
     "output_type": "display_data"
    }
   ],
   "source": [
    "df_counties = df_case.groupby('County Name').sum().reset_index()\n",
    "df_top10_counties = df_counties[df_counties['County Name']\n",
    "                               .str.contains('County')].nlargest(10,'counties_cases')\n",
    "\n",
    "#transpose and extract week to create better table\n",
    "df_top10_T = df_top10_counties.iloc[:,3:-1].T\n",
    "dt_index = pd.to_datetime(df_top10_T.index)\n",
    "df_top10_T.index = dt_index.week\n",
    "df_top10_T\n",
    "\n",
    "df_week_deaths = df_top10_T.groupby(df_top10_T.index).max()\n",
    "# assign column names\n",
    "df_week_deaths.columns = df_top10_counties['County Name']\n",
    "\n",
    "fig, axes = plt.subplots(nrows=2, ncols=1)\n",
    "#line plot\n",
    "ax1 = df_week_deaths.plot(title='Top 10 known cases counties per week',\n",
    "                         figsize=(14,16),\n",
    "                         style='.-',\n",
    "                         drawstyle=\"steps\",\n",
    "                         ax=axes[0],\n",
    "                         grid=True,\n",
    "                         linewidth=0.5)\n",
    "\n",
    "ax2 = df_week_deaths.plot(title='Top 10 known cases counties per week',\n",
    "                         figsize=(14,16), \n",
    "                         style='o-',\n",
    "                         ax=axes[1],\n",
    "                         grid=True,\n",
    "                         linewidth=0.5)\n",
    "ax1.set_xlabel(\"Weeks(fig1)\")\n",
    "ax2.set_xlabel(\"Weeks(fig2)\")\n",
    "plt.show()"
   ]
  },
  {
   "cell_type": "markdown",
   "metadata": {},
   "source": [
    "* ### Differences \n",
    "    * NY and seattle (Queens county/ Kings County) has tremendous increased after week 13 from fig 1\n",
    "* ### Similarities\n",
    "    * all counties Covid cases was growing start at week 10 both fig 1 and 2\n",
    "    * before weeks 10 there was most unknown (Incubation period likely 4-9 weeks)\n",
    "    * the density is very high during week 11 to week 12 from figh 1"
   ]
  },
  {
   "cell_type": "markdown",
   "metadata": {},
   "source": [
    "#### 6. Compute the number of known cases per population in each county that have cases ofcovid-19. Produce a bar graph and table of the results for the 10 counties with the highest values and the 10 counties with the lowest values."
   ]
  },
  {
   "cell_type": "code",
   "execution_count": 11,
   "metadata": {},
   "outputs": [],
   "source": [
    "# merge population and case dataframe\n",
    "df_case_ppl= pd.concat([df_case, df_population['population']], axis=1)\n",
    "\n",
    "# select row need to sum up\n",
    "rows_county = df_case_ppl[[col for col in df_case.columns if '2020' in col]]\n",
    "\n",
    "# sum up all period get total cases\n",
    "df_case_ppl['county_cases'] = rows_county.apply(lambda x: x.max(), axis =1)\n",
    "\n",
    "# sum up population and cases by county\n",
    "df_total_case = df_case_ppl.groupby(['County Name','State'])[\n",
    "                                'county_cases'].sum().reset_index()\n",
    "df_total_population = df_case_ppl.groupby(['County Name','State'])[\n",
    "                              'population'].sum().reset_index()\n",
    "df_tc_population = pd.concat([df_total_case,\n",
    "                              df_total_population['population']],\n",
    "                              axis=1)\n",
    "\n",
    "#take out unknown counties\n",
    "df_tc_population = df_tc_population[df_tc_population['County Name']\n",
    "                              .str.contains('County')]\n",
    "\n",
    "# select population is above 0 consider  as \"known\"\n",
    "# select cases is above 0 consider  as \"known\"\n",
    "df_tc_population = df_tc_population[\n",
    "                   df_tc_population['population'] > 0]\n",
    "df_tc_population = df_tc_population[\n",
    "                   df_tc_population['county_cases'] > 0]\n",
    "\n",
    "# calculate cases per population\n",
    "df_tc_population['case_per_population'] =\\\n",
    "                df_tc_population['county_cases']/df_tc_population['population']* 100000"
   ]
  },
  {
   "cell_type": "code",
   "execution_count": 12,
   "metadata": {},
   "outputs": [
    {
     "data": {
      "text/html": [
       "<div>\n",
       "<style scoped>\n",
       "    .dataframe tbody tr th:only-of-type {\n",
       "        vertical-align: middle;\n",
       "    }\n",
       "\n",
       "    .dataframe tbody tr th {\n",
       "        vertical-align: top;\n",
       "    }\n",
       "\n",
       "    .dataframe thead th {\n",
       "        text-align: right;\n",
       "    }\n",
       "</style>\n",
       "<table border=\"1\" class=\"dataframe\">\n",
       "  <thead>\n",
       "    <tr style=\"text-align: right;\">\n",
       "      <th></th>\n",
       "      <th>County Name</th>\n",
       "      <th>State</th>\n",
       "      <th>county_cases</th>\n",
       "      <th>population</th>\n",
       "      <th>case_per_population</th>\n",
       "    </tr>\n",
       "  </thead>\n",
       "  <tbody>\n",
       "    <tr>\n",
       "      <th>211</th>\n",
       "      <td>Blaine County</td>\n",
       "      <td>ID</td>\n",
       "      <td>423</td>\n",
       "      <td>23021</td>\n",
       "      <td>1837.452761</td>\n",
       "    </tr>\n",
       "    <tr>\n",
       "      <th>2456</th>\n",
       "      <td>Rockland County</td>\n",
       "      <td>NY</td>\n",
       "      <td>5703</td>\n",
       "      <td>325789</td>\n",
       "      <td>1750.519508</td>\n",
       "    </tr>\n",
       "    <tr>\n",
       "      <th>3075</th>\n",
       "      <td>Westchester County</td>\n",
       "      <td>NY</td>\n",
       "      <td>14294</td>\n",
       "      <td>967506</td>\n",
       "      <td>1477.406858</td>\n",
       "    </tr>\n",
       "    <tr>\n",
       "      <th>2043</th>\n",
       "      <td>Nassau County</td>\n",
       "      <td>NY</td>\n",
       "      <td>15616</td>\n",
       "      <td>1356924</td>\n",
       "      <td>1150.838219</td>\n",
       "    </tr>\n",
       "    <tr>\n",
       "      <th>2368</th>\n",
       "      <td>Queens County</td>\n",
       "      <td>NY</td>\n",
       "      <td>23133</td>\n",
       "      <td>2253858</td>\n",
       "      <td>1026.373445</td>\n",
       "    </tr>\n",
       "    <tr>\n",
       "      <th>275</th>\n",
       "      <td>Bronx County</td>\n",
       "      <td>NY</td>\n",
       "      <td>14327</td>\n",
       "      <td>1418207</td>\n",
       "      <td>1010.219242</td>\n",
       "    </tr>\n",
       "    <tr>\n",
       "      <th>2425</th>\n",
       "      <td>Richmond County</td>\n",
       "      <td>NY</td>\n",
       "      <td>4579</td>\n",
       "      <td>476143</td>\n",
       "      <td>961.685880</td>\n",
       "    </tr>\n",
       "    <tr>\n",
       "      <th>2766</th>\n",
       "      <td>Suffolk County</td>\n",
       "      <td>NY</td>\n",
       "      <td>13487</td>\n",
       "      <td>1476601</td>\n",
       "      <td>913.381475</td>\n",
       "    </tr>\n",
       "    <tr>\n",
       "      <th>2145</th>\n",
       "      <td>Orange County</td>\n",
       "      <td>NY</td>\n",
       "      <td>3397</td>\n",
       "      <td>384940</td>\n",
       "      <td>882.475191</td>\n",
       "    </tr>\n",
       "    <tr>\n",
       "      <th>805</th>\n",
       "      <td>Dougherty County</td>\n",
       "      <td>GA</td>\n",
       "      <td>722</td>\n",
       "      <td>87956</td>\n",
       "      <td>820.864978</td>\n",
       "    </tr>\n",
       "  </tbody>\n",
       "</table>\n",
       "</div>"
      ],
      "text/plain": [
       "             County Name State  county_cases  population  case_per_population\n",
       "211        Blaine County    ID           423       23021          1837.452761\n",
       "2456     Rockland County    NY          5703      325789          1750.519508\n",
       "3075  Westchester County    NY         14294      967506          1477.406858\n",
       "2043       Nassau County    NY         15616     1356924          1150.838219\n",
       "2368       Queens County    NY         23133     2253858          1026.373445\n",
       "275         Bronx County    NY         14327     1418207          1010.219242\n",
       "2425     Richmond County    NY          4579      476143           961.685880\n",
       "2766      Suffolk County    NY         13487     1476601           913.381475\n",
       "2145       Orange County    NY          3397      384940           882.475191\n",
       "805     Dougherty County    GA           722       87956           820.864978"
      ]
     },
     "execution_count": 12,
     "metadata": {},
     "output_type": "execute_result"
    },
    {
     "data": {
      "image/png": "[encoded data removed]",
      "text/plain": [
       "<Figure size 720x432 with 1 Axes>"
      ]
     },
     "metadata": {
      "needs_background": "light"
     },
     "output_type": "display_data"
    }
   ],
   "source": [
    "#   10 highest values counties\n",
    "df_top10 = df_tc_population.nlargest(10,'case_per_population')\n",
    "\n",
    "# bar plot\n",
    "df_top10.plot.bar(x='County Name', y='case_per_population', \n",
    "                  rot=45, title='Top 10 counties (cases/per 100,000 ppl)',\n",
    "                  figsize=(10,6))\n",
    "df_top10"
   ]
  },
  {
   "cell_type": "code",
   "execution_count": 13,
   "metadata": {},
   "outputs": [
    {
     "data": {
      "text/html": [
       "<div>\n",
       "<style scoped>\n",
       "    .dataframe tbody tr th:only-of-type {\n",
       "        vertical-align: middle;\n",
       "    }\n",
       "\n",
       "    .dataframe tbody tr th {\n",
       "        vertical-align: top;\n",
       "    }\n",
       "\n",
       "    .dataframe thead th {\n",
       "        text-align: right;\n",
       "    }\n",
       "</style>\n",
       "<table border=\"1\" class=\"dataframe\">\n",
       "  <thead>\n",
       "    <tr style=\"text-align: right;\">\n",
       "      <th></th>\n",
       "      <th>County Name</th>\n",
       "      <th>State</th>\n",
       "      <th>county_cases</th>\n",
       "      <th>population</th>\n",
       "      <th>case_per_population</th>\n",
       "    </tr>\n",
       "  </thead>\n",
       "  <tbody>\n",
       "    <tr>\n",
       "      <th>1241</th>\n",
       "      <td>Henderson County</td>\n",
       "      <td>TX</td>\n",
       "      <td>1</td>\n",
       "      <td>82737</td>\n",
       "      <td>1.208649</td>\n",
       "    </tr>\n",
       "    <tr>\n",
       "      <th>2546</th>\n",
       "      <td>Scioto County</td>\n",
       "      <td>OH</td>\n",
       "      <td>1</td>\n",
       "      <td>75314</td>\n",
       "      <td>1.327774</td>\n",
       "    </tr>\n",
       "    <tr>\n",
       "      <th>85</th>\n",
       "      <td>Aroostook County</td>\n",
       "      <td>ME</td>\n",
       "      <td>1</td>\n",
       "      <td>67055</td>\n",
       "      <td>1.491313</td>\n",
       "    </tr>\n",
       "    <tr>\n",
       "      <th>2822</th>\n",
       "      <td>Tehama County</td>\n",
       "      <td>CA</td>\n",
       "      <td>1</td>\n",
       "      <td>65084</td>\n",
       "      <td>1.536476</td>\n",
       "    </tr>\n",
       "    <tr>\n",
       "      <th>1599</th>\n",
       "      <td>Laurel County</td>\n",
       "      <td>KY</td>\n",
       "      <td>1</td>\n",
       "      <td>60813</td>\n",
       "      <td>1.644385</td>\n",
       "    </tr>\n",
       "    <tr>\n",
       "      <th>2267</th>\n",
       "      <td>Pike County</td>\n",
       "      <td>KY</td>\n",
       "      <td>1</td>\n",
       "      <td>57876</td>\n",
       "      <td>1.727832</td>\n",
       "    </tr>\n",
       "    <tr>\n",
       "      <th>62</th>\n",
       "      <td>Anderson County</td>\n",
       "      <td>TX</td>\n",
       "      <td>1</td>\n",
       "      <td>57735</td>\n",
       "      <td>1.732052</td>\n",
       "    </tr>\n",
       "    <tr>\n",
       "      <th>1194</th>\n",
       "      <td>Hardin County</td>\n",
       "      <td>KY</td>\n",
       "      <td>2</td>\n",
       "      <td>110958</td>\n",
       "      <td>1.802484</td>\n",
       "    </tr>\n",
       "    <tr>\n",
       "      <th>2885</th>\n",
       "      <td>Tuolumne County</td>\n",
       "      <td>CA</td>\n",
       "      <td>1</td>\n",
       "      <td>54478</td>\n",
       "      <td>1.835603</td>\n",
       "    </tr>\n",
       "    <tr>\n",
       "      <th>1614</th>\n",
       "      <td>Le Flore County</td>\n",
       "      <td>OK</td>\n",
       "      <td>1</td>\n",
       "      <td>49853</td>\n",
       "      <td>2.005897</td>\n",
       "    </tr>\n",
       "  </tbody>\n",
       "</table>\n",
       "</div>"
      ],
      "text/plain": [
       "           County Name State  county_cases  population  case_per_population\n",
       "1241  Henderson County    TX             1       82737             1.208649\n",
       "2546     Scioto County    OH             1       75314             1.327774\n",
       "85    Aroostook County    ME             1       67055             1.491313\n",
       "2822     Tehama County    CA             1       65084             1.536476\n",
       "1599     Laurel County    KY             1       60813             1.644385\n",
       "2267       Pike County    KY             1       57876             1.727832\n",
       "62     Anderson County    TX             1       57735             1.732052\n",
       "1194     Hardin County    KY             2      110958             1.802484\n",
       "2885   Tuolumne County    CA             1       54478             1.835603\n",
       "1614   Le Flore County    OK             1       49853             2.005897"
      ]
     },
     "execution_count": 13,
     "metadata": {},
     "output_type": "execute_result"
    },
    {
     "data": {
      "image/png": "[encoded data removed]",
      "text/plain": [
       "<Figure size 720x432 with 1 Axes>"
      ]
     },
     "metadata": {
      "needs_background": "light"
     },
     "output_type": "display_data"
    }
   ],
   "source": [
    "# 10 lowest values counties\n",
    "df_min10 = df_tc_population.nsmallest(10,'case_per_population')\n",
    "\n",
    "# bar plot\n",
    "df_min10.plot.bar(x='County Name', y='case_per_population', \n",
    "                  rot=45, title='Lowest 10 counties (cases/population)',\n",
    "                  figsize=(10,6))\n",
    "df_min10"
   ]
  },
  {
   "cell_type": "markdown",
   "metadata": {},
   "source": [
    "#### 7. Compute the death rate (deaths/ known cases) in each county that have both deaths and known cases. Compute the mean and standard deviation of the results.\n",
    "* The death case in data some rows was decrease\n",
    "* I filter out invalid value e.g below 0\n",
    "* I filter out county that is unknown"
   ]
  },
  {
   "cell_type": "code",
   "execution_count": 14,
   "metadata": {},
   "outputs": [
    {
     "data": {
      "text/html": [
       "<div>\n",
       "<style scoped>\n",
       "    .dataframe tbody tr th:only-of-type {\n",
       "        vertical-align: middle;\n",
       "    }\n",
       "\n",
       "    .dataframe tbody tr th {\n",
       "        vertical-align: top;\n",
       "    }\n",
       "\n",
       "    .dataframe thead th {\n",
       "        text-align: right;\n",
       "    }\n",
       "</style>\n",
       "<table border=\"1\" class=\"dataframe\">\n",
       "  <thead>\n",
       "    <tr style=\"text-align: right;\">\n",
       "      <th></th>\n",
       "      <th>County Name</th>\n",
       "      <th>State</th>\n",
       "      <th>counties_cases</th>\n",
       "      <th>county_deaths</th>\n",
       "      <th>deaths_rate</th>\n",
       "    </tr>\n",
       "  </thead>\n",
       "  <tbody>\n",
       "    <tr>\n",
       "      <th>0</th>\n",
       "      <td>Abbeville County</td>\n",
       "      <td>SC</td>\n",
       "      <td>6</td>\n",
       "      <td>0.0</td>\n",
       "      <td>0.00000</td>\n",
       "    </tr>\n",
       "    <tr>\n",
       "      <th>2</th>\n",
       "      <td>Accomack County</td>\n",
       "      <td>VA</td>\n",
       "      <td>11</td>\n",
       "      <td>0.0</td>\n",
       "      <td>0.00000</td>\n",
       "    </tr>\n",
       "    <tr>\n",
       "      <th>3</th>\n",
       "      <td>Ada County</td>\n",
       "      <td>ID</td>\n",
       "      <td>419</td>\n",
       "      <td>3.0</td>\n",
       "      <td>0.00716</td>\n",
       "    </tr>\n",
       "    <tr>\n",
       "      <th>4</th>\n",
       "      <td>Adair County</td>\n",
       "      <td>IA</td>\n",
       "      <td>1</td>\n",
       "      <td>0.0</td>\n",
       "      <td>0.00000</td>\n",
       "    </tr>\n",
       "    <tr>\n",
       "      <th>5</th>\n",
       "      <td>Adair County</td>\n",
       "      <td>KY</td>\n",
       "      <td>1</td>\n",
       "      <td>0.0</td>\n",
       "      <td>0.00000</td>\n",
       "    </tr>\n",
       "    <tr>\n",
       "      <th>...</th>\n",
       "      <td>...</td>\n",
       "      <td>...</td>\n",
       "      <td>...</td>\n",
       "      <td>...</td>\n",
       "      <td>...</td>\n",
       "    </tr>\n",
       "    <tr>\n",
       "      <th>3187</th>\n",
       "      <td>Young County</td>\n",
       "      <td>TX</td>\n",
       "      <td>3</td>\n",
       "      <td>0.0</td>\n",
       "      <td>0.00000</td>\n",
       "    </tr>\n",
       "    <tr>\n",
       "      <th>3188</th>\n",
       "      <td>Yuba County</td>\n",
       "      <td>CA</td>\n",
       "      <td>11</td>\n",
       "      <td>0.0</td>\n",
       "      <td>0.00000</td>\n",
       "    </tr>\n",
       "    <tr>\n",
       "      <th>3190</th>\n",
       "      <td>Yuma County</td>\n",
       "      <td>AZ</td>\n",
       "      <td>13</td>\n",
       "      <td>0.0</td>\n",
       "      <td>0.00000</td>\n",
       "    </tr>\n",
       "    <tr>\n",
       "      <th>3191</th>\n",
       "      <td>Yuma County</td>\n",
       "      <td>CO</td>\n",
       "      <td>2</td>\n",
       "      <td>0.0</td>\n",
       "      <td>0.00000</td>\n",
       "    </tr>\n",
       "    <tr>\n",
       "      <th>3192</th>\n",
       "      <td>Zapata County</td>\n",
       "      <td>TX</td>\n",
       "      <td>1</td>\n",
       "      <td>0.0</td>\n",
       "      <td>0.00000</td>\n",
       "    </tr>\n",
       "  </tbody>\n",
       "</table>\n",
       "<p>2353 rows × 5 columns</p>\n",
       "</div>"
      ],
      "text/plain": [
       "           County Name State  counties_cases  county_deaths  deaths_rate\n",
       "0     Abbeville County    SC               6            0.0      0.00000\n",
       "2      Accomack County    VA              11            0.0      0.00000\n",
       "3           Ada County    ID             419            3.0      0.00716\n",
       "4         Adair County    IA               1            0.0      0.00000\n",
       "5         Adair County    KY               1            0.0      0.00000\n",
       "...                ...   ...             ...            ...          ...\n",
       "3187      Young County    TX               3            0.0      0.00000\n",
       "3188       Yuba County    CA              11            0.0      0.00000\n",
       "3190       Yuma County    AZ              13            0.0      0.00000\n",
       "3191       Yuma County    CO               2            0.0      0.00000\n",
       "3192     Zapata County    TX               1            0.0      0.00000\n",
       "\n",
       "[2353 rows x 5 columns]"
      ]
     },
     "execution_count": 14,
     "metadata": {},
     "output_type": "execute_result"
    }
   ],
   "source": [
    "# count deaths cases for each county  similar to previous question\n",
    "all_deaths = df_deaths[[col for col in df_deaths.columns if '2020' in col]]\n",
    "df_deaths['county_deaths'] = all_deaths.apply(lambda x: x.max(), axis =1)\n",
    "df_total_deaths = df_deaths.groupby(['County Name','State'])[\n",
    "                                'county_deaths'].sum().reset_index()\n",
    "\n",
    "# merge deaths and cases dataframe and pick death cases greater than 0\n",
    "df_case_death= pd.concat([df_counties_cases, df_total_deaths['county_deaths']], axis=1)\n",
    "df_case_death = df_case_death[df_case_death['counties_cases'] > 0]\n",
    "\n",
    "\n",
    "#take out unknown counties\n",
    "df_case_death = df_case_death[df_case_death['County Name']\n",
    "                              .str.contains('County')]\n",
    "\n",
    "#calculate death rate\n",
    "df_case_death['deaths_rate'] =  df_case_death['county_deaths']/ df_case_death['counties_cases']\n",
    "\n",
    "df_case_death"
   ]
  },
  {
   "cell_type": "code",
   "execution_count": 15,
   "metadata": {},
   "outputs": [
    {
     "name": "stdout",
     "output_type": "stream",
     "text": [
      "After filtered Num of counties: 2353\n"
     ]
    },
    {
     "data": {
      "text/html": [
       "<div>\n",
       "<style scoped>\n",
       "    .dataframe tbody tr th:only-of-type {\n",
       "        vertical-align: middle;\n",
       "    }\n",
       "\n",
       "    .dataframe tbody tr th {\n",
       "        vertical-align: top;\n",
       "    }\n",
       "\n",
       "    .dataframe thead th {\n",
       "        text-align: right;\n",
       "    }\n",
       "</style>\n",
       "<table border=\"1\" class=\"dataframe\">\n",
       "  <thead>\n",
       "    <tr style=\"text-align: right;\">\n",
       "      <th></th>\n",
       "      <th>min</th>\n",
       "      <th>max</th>\n",
       "      <th>mean</th>\n",
       "      <th>standard deviation</th>\n",
       "    </tr>\n",
       "  </thead>\n",
       "  <tbody>\n",
       "    <tr>\n",
       "      <th>counties_cases</th>\n",
       "      <td>1.0</td>\n",
       "      <td>23133.0</td>\n",
       "      <td>144.634934</td>\n",
       "      <td>1005.587106</td>\n",
       "    </tr>\n",
       "    <tr>\n",
       "      <th>county_deaths</th>\n",
       "      <td>0.0</td>\n",
       "      <td>1022.0</td>\n",
       "      <td>4.097748</td>\n",
       "      <td>37.776956</td>\n",
       "    </tr>\n",
       "    <tr>\n",
       "      <th>deaths_rate</th>\n",
       "      <td>0.0</td>\n",
       "      <td>3.0</td>\n",
       "      <td>0.026354</td>\n",
       "      <td>0.103597</td>\n",
       "    </tr>\n",
       "  </tbody>\n",
       "</table>\n",
       "</div>"
      ],
      "text/plain": [
       "                min      max        mean  standard deviation\n",
       "counties_cases  1.0  23133.0  144.634934         1005.587106\n",
       "county_deaths   0.0   1022.0    4.097748           37.776956\n",
       "deaths_rate     0.0      3.0    0.026354            0.103597"
      ]
     },
     "execution_count": 15,
     "metadata": {},
     "output_type": "execute_result"
    }
   ],
   "source": [
    "#mean stdev of result\n",
    "df_stdev = df_case_death.iloc[:,2:].std().to_frame()\n",
    "df_mean = df_case_death.iloc[:,2:].mean().to_frame()\n",
    "df_stdev.columns = ['standard deviation']\n",
    "df_mean.columns = ['mean']\n",
    "df_mean_stdev = df_stdev.join(df_mean)\n",
    "\n",
    "# add min/max for each row\n",
    "df_mean_stdev['max'] = [df_case_death['counties_cases'].max(),\n",
    "                        df_case_death['county_deaths'].max(),\n",
    "                        df_case_death['deaths_rate'].max()]\n",
    "df_mean_stdev['min'] = [df_case_death['counties_cases'].min(),\n",
    "                        df_case_death['county_deaths'].min(),\n",
    "                        df_case_death['deaths_rate'].min()]\n",
    "# add number of valid counties counted\n",
    "\n",
    "print('After filtered Num of counties:',df_case_death['County Name'].count())\n",
    "df_mean_stdev.iloc[:,::-1]"
   ]
  },
  {
   "cell_type": "code",
   "execution_count": null,
   "metadata": {},
   "outputs": [],
   "source": []
  },
  {
   "cell_type": "markdown",
   "metadata": {},
   "source": [
    "#### 8. Produce a violin plot of the death rates found in #7\n",
    "* I filted death rate above 1 because deaths/known cases. All cases could be death cases, but cant go beyond\n",
    "* ppl dead more than ppl you know which not make sense"
   ]
  },
  {
   "cell_type": "code",
   "execution_count": 16,
   "metadata": {},
   "outputs": [
    {
     "data": {
      "image/png": "[encoded data removed]",
      "text/plain": [
       "<Figure size 576x432 with 1 Axes>"
      ]
     },
     "metadata": {
      "needs_background": "light"
     },
     "output_type": "display_data"
    }
   ],
   "source": [
    "#filter unreason data\n",
    "filtered_deaths = df_case_death[df_case_death['deaths_rate'] < 1]\n",
    "\n",
    "plt.subplots(figsize=(8,6))\n",
    "plt.title('Violin plot of the death rates')\n",
    "sns.violinplot(y = filtered_deaths['deaths_rate'])\n",
    "plt.show()"
   ]
  },
  {
   "cell_type": "markdown",
   "metadata": {},
   "source": [
    "#### 9. There is some hope that covid-19 may have peaked in NYC (counties Bronx, Kings, New York, Queens and Richmond). Is there any evidence of that in the data?"
   ]
  },
  {
   "cell_type": "code",
   "execution_count": 17,
   "metadata": {},
   "outputs": [
    {
     "data": {
      "text/html": [
       "<style  type=\"text/css\" >\n",
       "    #T_6651f058_8431_11ea_90d1_d0abd5069aa9row0_col0 {\n",
       "            background:  lightgreen;\n",
       "        }    #T_6651f058_8431_11ea_90d1_d0abd5069aa9row0_col1 {\n",
       "            background:  lightgreen;\n",
       "        }    #T_6651f058_8431_11ea_90d1_d0abd5069aa9row0_col2 {\n",
       "            background:  lightgreen;\n",
       "        }    #T_6651f058_8431_11ea_90d1_d0abd5069aa9row1_col0 {\n",
       "            background:  lightgreen;\n",
       "        }    #T_6651f058_8431_11ea_90d1_d0abd5069aa9row1_col1 {\n",
       "            background:  lightgreen;\n",
       "        }    #T_6651f058_8431_11ea_90d1_d0abd5069aa9row1_col2 {\n",
       "            background:  lightgreen;\n",
       "        }    #T_6651f058_8431_11ea_90d1_d0abd5069aa9row3_col0 {\n",
       "            background:  lightgreen;\n",
       "        }    #T_6651f058_8431_11ea_90d1_d0abd5069aa9row3_col1 {\n",
       "            background:  lightgreen;\n",
       "        }    #T_6651f058_8431_11ea_90d1_d0abd5069aa9row3_col2 {\n",
       "            background:  lightgreen;\n",
       "        }    #T_6651f058_8431_11ea_90d1_d0abd5069aa9row6_col0 {\n",
       "            background:  lightgreen;\n",
       "        }    #T_6651f058_8431_11ea_90d1_d0abd5069aa9row6_col1 {\n",
       "            background:  lightgreen;\n",
       "        }    #T_6651f058_8431_11ea_90d1_d0abd5069aa9row6_col2 {\n",
       "            background:  lightgreen;\n",
       "        }    #T_6651f058_8431_11ea_90d1_d0abd5069aa9row8_col0 {\n",
       "            background:  lightgreen;\n",
       "        }    #T_6651f058_8431_11ea_90d1_d0abd5069aa9row8_col1 {\n",
       "            background:  lightgreen;\n",
       "        }    #T_6651f058_8431_11ea_90d1_d0abd5069aa9row8_col2 {\n",
       "            background:  lightgreen;\n",
       "        }</style><table id=\"T_6651f058_8431_11ea_90d1_d0abd5069aa9\" ><thead>    <tr>        <th class=\"blank level0\" ></th>        <th class=\"col_heading level0 col0\" >County Name</th>        <th class=\"col_heading level0 col1\" >State</th>        <th class=\"col_heading level0 col2\" >counties_cases</th>    </tr></thead><tbody>\n",
       "                <tr>\n",
       "                        <th id=\"T_6651f058_8431_11ea_90d1_d0abd5069aa9level0_row0\" class=\"row_heading level0 row0\" >2368</th>\n",
       "                        <td id=\"T_6651f058_8431_11ea_90d1_d0abd5069aa9row0_col0\" class=\"data row0 col0\" >Queens County</td>\n",
       "                        <td id=\"T_6651f058_8431_11ea_90d1_d0abd5069aa9row0_col1\" class=\"data row0 col1\" >NY</td>\n",
       "                        <td id=\"T_6651f058_8431_11ea_90d1_d0abd5069aa9row0_col2\" class=\"data row0 col2\" >23133</td>\n",
       "            </tr>\n",
       "            <tr>\n",
       "                        <th id=\"T_6651f058_8431_11ea_90d1_d0abd5069aa9level0_row1\" class=\"row_heading level0 row1\" >1509</th>\n",
       "                        <td id=\"T_6651f058_8431_11ea_90d1_d0abd5069aa9row1_col0\" class=\"data row1 col0\" >Kings County</td>\n",
       "                        <td id=\"T_6651f058_8431_11ea_90d1_d0abd5069aa9row1_col1\" class=\"data row1 col1\" >NY</td>\n",
       "                        <td id=\"T_6651f058_8431_11ea_90d1_d0abd5069aa9row1_col2\" class=\"data row1 col2\" >19702</td>\n",
       "            </tr>\n",
       "            <tr>\n",
       "                        <th id=\"T_6651f058_8431_11ea_90d1_d0abd5069aa9level0_row2\" class=\"row_heading level0 row2\" >2043</th>\n",
       "                        <td id=\"T_6651f058_8431_11ea_90d1_d0abd5069aa9row2_col0\" class=\"data row2 col0\" >Nassau County</td>\n",
       "                        <td id=\"T_6651f058_8431_11ea_90d1_d0abd5069aa9row2_col1\" class=\"data row2 col1\" >NY</td>\n",
       "                        <td id=\"T_6651f058_8431_11ea_90d1_d0abd5069aa9row2_col2\" class=\"data row2 col2\" >15616</td>\n",
       "            </tr>\n",
       "            <tr>\n",
       "                        <th id=\"T_6651f058_8431_11ea_90d1_d0abd5069aa9level0_row3\" class=\"row_heading level0 row3\" >275</th>\n",
       "                        <td id=\"T_6651f058_8431_11ea_90d1_d0abd5069aa9row3_col0\" class=\"data row3 col0\" >Bronx County</td>\n",
       "                        <td id=\"T_6651f058_8431_11ea_90d1_d0abd5069aa9row3_col1\" class=\"data row3 col1\" >NY</td>\n",
       "                        <td id=\"T_6651f058_8431_11ea_90d1_d0abd5069aa9row3_col2\" class=\"data row3 col2\" >14327</td>\n",
       "            </tr>\n",
       "            <tr>\n",
       "                        <th id=\"T_6651f058_8431_11ea_90d1_d0abd5069aa9level0_row4\" class=\"row_heading level0 row4\" >3075</th>\n",
       "                        <td id=\"T_6651f058_8431_11ea_90d1_d0abd5069aa9row4_col0\" class=\"data row4 col0\" >Westchester County</td>\n",
       "                        <td id=\"T_6651f058_8431_11ea_90d1_d0abd5069aa9row4_col1\" class=\"data row4 col1\" >NY</td>\n",
       "                        <td id=\"T_6651f058_8431_11ea_90d1_d0abd5069aa9row4_col2\" class=\"data row4 col2\" >14294</td>\n",
       "            </tr>\n",
       "            <tr>\n",
       "                        <th id=\"T_6651f058_8431_11ea_90d1_d0abd5069aa9level0_row5\" class=\"row_heading level0 row5\" >2766</th>\n",
       "                        <td id=\"T_6651f058_8431_11ea_90d1_d0abd5069aa9row5_col0\" class=\"data row5 col0\" >Suffolk County</td>\n",
       "                        <td id=\"T_6651f058_8431_11ea_90d1_d0abd5069aa9row5_col1\" class=\"data row5 col1\" >NY</td>\n",
       "                        <td id=\"T_6651f058_8431_11ea_90d1_d0abd5069aa9row5_col2\" class=\"data row5 col2\" >13487</td>\n",
       "            </tr>\n",
       "            <tr>\n",
       "                        <th id=\"T_6651f058_8431_11ea_90d1_d0abd5069aa9level0_row6\" class=\"row_heading level0 row6\" >2065</th>\n",
       "                        <td id=\"T_6651f058_8431_11ea_90d1_d0abd5069aa9row6_col0\" class=\"data row6 col0\" >New York County</td>\n",
       "                        <td id=\"T_6651f058_8431_11ea_90d1_d0abd5069aa9row6_col1\" class=\"data row6 col1\" >NY</td>\n",
       "                        <td id=\"T_6651f058_8431_11ea_90d1_d0abd5069aa9row6_col2\" class=\"data row6 col2\" >10440</td>\n",
       "            </tr>\n",
       "            <tr>\n",
       "                        <th id=\"T_6651f058_8431_11ea_90d1_d0abd5069aa9level0_row7\" class=\"row_heading level0 row7\" >2456</th>\n",
       "                        <td id=\"T_6651f058_8431_11ea_90d1_d0abd5069aa9row7_col0\" class=\"data row7 col0\" >Rockland County</td>\n",
       "                        <td id=\"T_6651f058_8431_11ea_90d1_d0abd5069aa9row7_col1\" class=\"data row7 col1\" >NY</td>\n",
       "                        <td id=\"T_6651f058_8431_11ea_90d1_d0abd5069aa9row7_col2\" class=\"data row7 col2\" >5703</td>\n",
       "            </tr>\n",
       "            <tr>\n",
       "                        <th id=\"T_6651f058_8431_11ea_90d1_d0abd5069aa9level0_row8\" class=\"row_heading level0 row8\" >2425</th>\n",
       "                        <td id=\"T_6651f058_8431_11ea_90d1_d0abd5069aa9row8_col0\" class=\"data row8 col0\" >Richmond County</td>\n",
       "                        <td id=\"T_6651f058_8431_11ea_90d1_d0abd5069aa9row8_col1\" class=\"data row8 col1\" >NY</td>\n",
       "                        <td id=\"T_6651f058_8431_11ea_90d1_d0abd5069aa9row8_col2\" class=\"data row8 col2\" >4579</td>\n",
       "            </tr>\n",
       "            <tr>\n",
       "                        <th id=\"T_6651f058_8431_11ea_90d1_d0abd5069aa9level0_row9\" class=\"row_heading level0 row9\" >2145</th>\n",
       "                        <td id=\"T_6651f058_8431_11ea_90d1_d0abd5069aa9row9_col0\" class=\"data row9 col0\" >Orange County</td>\n",
       "                        <td id=\"T_6651f058_8431_11ea_90d1_d0abd5069aa9row9_col1\" class=\"data row9 col1\" >NY</td>\n",
       "                        <td id=\"T_6651f058_8431_11ea_90d1_d0abd5069aa9row9_col2\" class=\"data row9 col2\" >3397</td>\n",
       "            </tr>\n",
       "            <tr>\n",
       "                        <th id=\"T_6651f058_8431_11ea_90d1_d0abd5069aa9level0_row10\" class=\"row_heading level0 row10\" >830</th>\n",
       "                        <td id=\"T_6651f058_8431_11ea_90d1_d0abd5069aa9row10_col0\" class=\"data row10 col0\" >Dutchess County</td>\n",
       "                        <td id=\"T_6651f058_8431_11ea_90d1_d0abd5069aa9row10_col1\" class=\"data row10 col1\" >NY</td>\n",
       "                        <td id=\"T_6651f058_8431_11ea_90d1_d0abd5069aa9row10_col2\" class=\"data row10 col2\" >1189</td>\n",
       "            </tr>\n",
       "            <tr>\n",
       "                        <th id=\"T_6651f058_8431_11ea_90d1_d0abd5069aa9level0_row11\" class=\"row_heading level0 row11\" >879</th>\n",
       "                        <td id=\"T_6651f058_8431_11ea_90d1_d0abd5069aa9row11_col0\" class=\"data row11 col0\" >Erie County</td>\n",
       "                        <td id=\"T_6651f058_8431_11ea_90d1_d0abd5069aa9row11_col1\" class=\"data row11 col1\" >NY</td>\n",
       "                        <td id=\"T_6651f058_8431_11ea_90d1_d0abd5069aa9row11_col2\" class=\"data row11 col2\" >1163</td>\n",
       "            </tr>\n",
       "            <tr>\n",
       "                        <th id=\"T_6651f058_8431_11ea_90d1_d0abd5069aa9level0_row12\" class=\"row_heading level0 row12\" >1964</th>\n",
       "                        <td id=\"T_6651f058_8431_11ea_90d1_d0abd5069aa9row12_col0\" class=\"data row12 col0\" >Monroe County</td>\n",
       "                        <td id=\"T_6651f058_8431_11ea_90d1_d0abd5069aa9row12_col1\" class=\"data row12 col1\" >NY</td>\n",
       "                        <td id=\"T_6651f058_8431_11ea_90d1_d0abd5069aa9row12_col2\" class=\"data row12 col2\" >574</td>\n",
       "            </tr>\n",
       "            <tr>\n",
       "                        <th id=\"T_6651f058_8431_11ea_90d1_d0abd5069aa9level0_row13\" class=\"row_heading level0 row13\" >2898</th>\n",
       "                        <td id=\"T_6651f058_8431_11ea_90d1_d0abd5069aa9row13_col0\" class=\"data row13 col0\" >Ulster County</td>\n",
       "                        <td id=\"T_6651f058_8431_11ea_90d1_d0abd5069aa9row13_col1\" class=\"data row13 col1\" >NY</td>\n",
       "                        <td id=\"T_6651f058_8431_11ea_90d1_d0abd5069aa9row13_col2\" class=\"data row13 col2\" >372</td>\n",
       "            </tr>\n",
       "            <tr>\n",
       "                        <th id=\"T_6651f058_8431_11ea_90d1_d0abd5069aa9level0_row14\" class=\"row_heading level0 row14\" >2362</th>\n",
       "                        <td id=\"T_6651f058_8431_11ea_90d1_d0abd5069aa9row14_col0\" class=\"data row14 col0\" >Putnam County</td>\n",
       "                        <td id=\"T_6651f058_8431_11ea_90d1_d0abd5069aa9row14_col1\" class=\"data row14 col1\" >NY</td>\n",
       "                        <td id=\"T_6651f058_8431_11ea_90d1_d0abd5069aa9row14_col2\" class=\"data row14 col2\" >345</td>\n",
       "            </tr>\n",
       "    </tbody></table>"
      ],
      "text/plain": [
       "<pandas.io.formats.style.Styler at 0x130bffb3408>"
      ]
     },
     "execution_count": 17,
     "metadata": {},
     "output_type": "execute_result"
    }
   ],
   "source": [
    "# count all known cases of all counties in NYC \n",
    "df_counties_cases = df_case.groupby(['County Name','State'])[\n",
    "                                'counties_cases'].sum().reset_index()\n",
    "df_top_NYC = df_counties_cases[df_counties_cases['State'].str.contains('NY') ]\n",
    "df_top_NYC = df_top_NYC.nlargest(15,'counties_cases')\n",
    "\n",
    "#highligh name we need\n",
    "df_top_NYC.style.apply(lambda x: ['background: lightgreen' \n",
    "                                  if (x['County Name'] == 'Bronx County' \n",
    "                                      or x['County Name'] == 'Kings County' \n",
    "                                      or x['County Name'] == 'New York County'\n",
    "                                      or x['County Name'] == 'Queens County'\n",
    "                                      or x['County Name'] == 'Richmond County')\n",
    "                                  else '' for i in x], axis=1)"
   ]
  },
  {
   "cell_type": "markdown",
   "metadata": {},
   "source": [
    "* Clearly, from highlight above Queens County is the peak. Then Kings County\n",
    "But Bronx, New York,Richmond was not even top 3."
   ]
  },
  {
   "cell_type": "markdown",
   "metadata": {},
   "source": [
    "#### 10.Seattle (King county in Washington) also hopes that they have peaked. Is there any evidence of that in the data?"
   ]
  },
  {
   "cell_type": "code",
   "execution_count": 18,
   "metadata": {},
   "outputs": [
    {
     "data": {
      "text/html": [
       "<style  type=\"text/css\" >\n",
       "    #T_6740bae6_8431_11ea_b3c8_d0abd5069aa9row0_col0 {\n",
       "            background:  lightgreen;\n",
       "        }    #T_6740bae6_8431_11ea_b3c8_d0abd5069aa9row0_col1 {\n",
       "            background:  lightgreen;\n",
       "        }    #T_6740bae6_8431_11ea_b3c8_d0abd5069aa9row0_col2 {\n",
       "            background:  lightgreen;\n",
       "        }</style><table id=\"T_6740bae6_8431_11ea_b3c8_d0abd5069aa9\" ><thead>    <tr>        <th class=\"blank level0\" ></th>        <th class=\"col_heading level0 col0\" >County Name</th>        <th class=\"col_heading level0 col1\" >State</th>        <th class=\"col_heading level0 col2\" >counties_cases</th>    </tr></thead><tbody>\n",
       "                <tr>\n",
       "                        <th id=\"T_6740bae6_8431_11ea_b3c8_d0abd5069aa9level0_row0\" class=\"row_heading level0 row0\" >1502</th>\n",
       "                        <td id=\"T_6740bae6_8431_11ea_b3c8_d0abd5069aa9row0_col0\" class=\"data row0 col0\" >King County</td>\n",
       "                        <td id=\"T_6740bae6_8431_11ea_b3c8_d0abd5069aa9row0_col1\" class=\"data row0 col1\" >WA</td>\n",
       "                        <td id=\"T_6740bae6_8431_11ea_b3c8_d0abd5069aa9row0_col2\" class=\"data row0 col2\" >3295</td>\n",
       "            </tr>\n",
       "            <tr>\n",
       "                        <th id=\"T_6740bae6_8431_11ea_b3c8_d0abd5069aa9level0_row1\" class=\"row_heading level0 row1\" >2629</th>\n",
       "                        <td id=\"T_6740bae6_8431_11ea_b3c8_d0abd5069aa9row1_col0\" class=\"data row1 col0\" >Snohomish County</td>\n",
       "                        <td id=\"T_6740bae6_8431_11ea_b3c8_d0abd5069aa9row1_col1\" class=\"data row1 col1\" >WA</td>\n",
       "                        <td id=\"T_6740bae6_8431_11ea_b3c8_d0abd5069aa9row1_col2\" class=\"data row1 col2\" >1522</td>\n",
       "            </tr>\n",
       "            <tr>\n",
       "                        <th id=\"T_6740bae6_8431_11ea_b3c8_d0abd5069aa9level0_row2\" class=\"row_heading level0 row2\" >2731</th>\n",
       "                        <td id=\"T_6740bae6_8431_11ea_b3c8_d0abd5069aa9row2_col0\" class=\"data row2 col0\" >Statewide Unallocated</td>\n",
       "                        <td id=\"T_6740bae6_8431_11ea_b3c8_d0abd5069aa9row2_col1\" class=\"data row2 col1\" >WA</td>\n",
       "                        <td id=\"T_6740bae6_8431_11ea_b3c8_d0abd5069aa9row2_col2\" class=\"data row2 col2\" >1216</td>\n",
       "            </tr>\n",
       "            <tr>\n",
       "                        <th id=\"T_6740bae6_8431_11ea_b3c8_d0abd5069aa9level0_row3\" class=\"row_heading level0 row3\" >2260</th>\n",
       "                        <td id=\"T_6740bae6_8431_11ea_b3c8_d0abd5069aa9row3_col0\" class=\"data row3 col0\" >Pierce County</td>\n",
       "                        <td id=\"T_6740bae6_8431_11ea_b3c8_d0abd5069aa9row3_col1\" class=\"data row3 col1\" >WA</td>\n",
       "                        <td id=\"T_6740bae6_8431_11ea_b3c8_d0abd5069aa9row3_col2\" class=\"data row3 col2\" >590</td>\n",
       "            </tr>\n",
       "            <tr>\n",
       "                        <th id=\"T_6740bae6_8431_11ea_b3c8_d0abd5069aa9level0_row4\" class=\"row_heading level0 row4\" >3168</th>\n",
       "                        <td id=\"T_6740bae6_8431_11ea_b3c8_d0abd5069aa9row4_col0\" class=\"data row4 col0\" >Yakima County</td>\n",
       "                        <td id=\"T_6740bae6_8431_11ea_b3c8_d0abd5069aa9row4_col1\" class=\"data row4 col1\" >WA</td>\n",
       "                        <td id=\"T_6740bae6_8431_11ea_b3c8_d0abd5069aa9row4_col2\" class=\"data row4 col2\" >346</td>\n",
       "            </tr>\n",
       "            <tr>\n",
       "                        <th id=\"T_6740bae6_8431_11ea_b3c8_d0abd5069aa9level0_row5\" class=\"row_heading level0 row5\" >2646</th>\n",
       "                        <td id=\"T_6740bae6_8431_11ea_b3c8_d0abd5069aa9row5_col0\" class=\"data row5 col0\" >Spokane County</td>\n",
       "                        <td id=\"T_6740bae6_8431_11ea_b3c8_d0abd5069aa9row5_col1\" class=\"data row5 col1\" >WA</td>\n",
       "                        <td id=\"T_6740bae6_8431_11ea_b3c8_d0abd5069aa9row5_col2\" class=\"data row5 col2\" >203</td>\n",
       "            </tr>\n",
       "            <tr>\n",
       "                        <th id=\"T_6740bae6_8431_11ea_b3c8_d0abd5069aa9level0_row6\" class=\"row_heading level0 row6\" >3082</th>\n",
       "                        <td id=\"T_6740bae6_8431_11ea_b3c8_d0abd5069aa9row6_col0\" class=\"data row6 col0\" >Whatcom County</td>\n",
       "                        <td id=\"T_6740bae6_8431_11ea_b3c8_d0abd5069aa9row6_col1\" class=\"data row6 col1\" >WA</td>\n",
       "                        <td id=\"T_6740bae6_8431_11ea_b3c8_d0abd5069aa9row6_col2\" class=\"data row6 col2\" >183</td>\n",
       "            </tr>\n",
       "            <tr>\n",
       "                        <th id=\"T_6740bae6_8431_11ea_b3c8_d0abd5069aa9level0_row7\" class=\"row_heading level0 row7\" >187</th>\n",
       "                        <td id=\"T_6740bae6_8431_11ea_b3c8_d0abd5069aa9row7_col0\" class=\"data row7 col0\" >Benton County</td>\n",
       "                        <td id=\"T_6740bae6_8431_11ea_b3c8_d0abd5069aa9row7_col1\" class=\"data row7 col1\" >WA</td>\n",
       "                        <td id=\"T_6740bae6_8431_11ea_b3c8_d0abd5069aa9row7_col2\" class=\"data row7 col2\" >172</td>\n",
       "            </tr>\n",
       "            <tr>\n",
       "                        <th id=\"T_6740bae6_8431_11ea_b3c8_d0abd5069aa9level0_row8\" class=\"row_heading level0 row8\" >2620</th>\n",
       "                        <td id=\"T_6740bae6_8431_11ea_b3c8_d0abd5069aa9row8_col0\" class=\"data row8 col0\" >Skagit County</td>\n",
       "                        <td id=\"T_6740bae6_8431_11ea_b3c8_d0abd5069aa9row8_col1\" class=\"data row8 col1\" >WA</td>\n",
       "                        <td id=\"T_6740bae6_8431_11ea_b3c8_d0abd5069aa9row8_col2\" class=\"data row8 col2\" >162</td>\n",
       "            </tr>\n",
       "            <tr>\n",
       "                        <th id=\"T_6740bae6_8431_11ea_b3c8_d0abd5069aa9level0_row9\" class=\"row_heading level0 row9\" >531</th>\n",
       "                        <td id=\"T_6740bae6_8431_11ea_b3c8_d0abd5069aa9row9_col0\" class=\"data row9 col0\" >Clark County</td>\n",
       "                        <td id=\"T_6740bae6_8431_11ea_b3c8_d0abd5069aa9row9_col1\" class=\"data row9 col1\" >WA</td>\n",
       "                        <td id=\"T_6740bae6_8431_11ea_b3c8_d0abd5069aa9row9_col2\" class=\"data row9 col2\" >154</td>\n",
       "            </tr>\n",
       "            <tr>\n",
       "                        <th id=\"T_6740bae6_8431_11ea_b3c8_d0abd5069aa9level0_row10\" class=\"row_heading level0 row10\" >1355</th>\n",
       "                        <td id=\"T_6740bae6_8431_11ea_b3c8_d0abd5069aa9row10_col0\" class=\"data row10 col0\" >Island County</td>\n",
       "                        <td id=\"T_6740bae6_8431_11ea_b3c8_d0abd5069aa9row10_col1\" class=\"data row10 col1\" >WA</td>\n",
       "                        <td id=\"T_6740bae6_8431_11ea_b3c8_d0abd5069aa9row10_col2\" class=\"data row10 col2\" >133</td>\n",
       "            </tr>\n",
       "            <tr>\n",
       "                        <th id=\"T_6740bae6_8431_11ea_b3c8_d0abd5069aa9level0_row11\" class=\"row_heading level0 row11\" >1516</th>\n",
       "                        <td id=\"T_6740bae6_8431_11ea_b3c8_d0abd5069aa9row11_col0\" class=\"data row11 col0\" >Kitsap County</td>\n",
       "                        <td id=\"T_6740bae6_8431_11ea_b3c8_d0abd5069aa9row11_col1\" class=\"data row11 col1\" >WA</td>\n",
       "                        <td id=\"T_6740bae6_8431_11ea_b3c8_d0abd5069aa9row11_col2\" class=\"data row11 col2\" >108</td>\n",
       "            </tr>\n",
       "            <tr>\n",
       "                        <th id=\"T_6740bae6_8431_11ea_b3c8_d0abd5069aa9level0_row12\" class=\"row_heading level0 row12\" >1090</th>\n",
       "                        <td id=\"T_6740bae6_8431_11ea_b3c8_d0abd5069aa9row12_col0\" class=\"data row12 col0\" >Grant County</td>\n",
       "                        <td id=\"T_6740bae6_8431_11ea_b3c8_d0abd5069aa9row12_col1\" class=\"data row12 col1\" >WA</td>\n",
       "                        <td id=\"T_6740bae6_8431_11ea_b3c8_d0abd5069aa9row12_col2\" class=\"data row12 col2\" >85</td>\n",
       "            </tr>\n",
       "            <tr>\n",
       "                        <th id=\"T_6740bae6_8431_11ea_b3c8_d0abd5069aa9level0_row13\" class=\"row_heading level0 row13\" >2841</th>\n",
       "                        <td id=\"T_6740bae6_8431_11ea_b3c8_d0abd5069aa9row13_col0\" class=\"data row13 col0\" >Thurston County</td>\n",
       "                        <td id=\"T_6740bae6_8431_11ea_b3c8_d0abd5069aa9row13_col1\" class=\"data row13 col1\" >WA</td>\n",
       "                        <td id=\"T_6740bae6_8431_11ea_b3c8_d0abd5069aa9row13_col2\" class=\"data row13 col2\" >66</td>\n",
       "            </tr>\n",
       "            <tr>\n",
       "                        <th id=\"T_6740bae6_8431_11ea_b3c8_d0abd5069aa9level0_row14\" class=\"row_heading level0 row14\" >976</th>\n",
       "                        <td id=\"T_6740bae6_8431_11ea_b3c8_d0abd5069aa9row14_col0\" class=\"data row14 col0\" >Franklin County</td>\n",
       "                        <td id=\"T_6740bae6_8431_11ea_b3c8_d0abd5069aa9row14_col1\" class=\"data row14 col1\" >WA</td>\n",
       "                        <td id=\"T_6740bae6_8431_11ea_b3c8_d0abd5069aa9row14_col2\" class=\"data row14 col2\" >64</td>\n",
       "            </tr>\n",
       "    </tbody></table>"
      ],
      "text/plain": [
       "<pandas.io.formats.style.Styler at 0x130c08f3348>"
      ]
     },
     "execution_count": 18,
     "metadata": {},
     "output_type": "execute_result"
    }
   ],
   "source": [
    "# count all cases of all counties in Washington \n",
    "df_top_WA = df_counties_cases[df_counties_cases['State'].str.contains('WA') ]\n",
    "df_top_WA = df_top_WA.nlargest(15,'counties_cases')\n",
    "\n",
    "#highligh name we need\n",
    "df_top_WA.style.apply(lambda x: ['background: lightgreen' \n",
    "                                  if (x['County Name'] == 'King County')\n",
    "                                  else '' for i in x], axis=1)"
   ]
  },
  {
   "cell_type": "markdown",
   "metadata": {},
   "source": [
    "* Clearly, from highlight above King County is the peak (Seattle)."
   ]
  },
  {
   "cell_type": "markdown",
   "metadata": {},
   "source": [
    "## Names"
   ]
  },
  {
   "cell_type": "markdown",
   "metadata": {},
   "source": [
    "#### 1. Combine the files into one dataframe that contains year, name, sex and number of peopleborn that year. Create a training set and a test set from this dataframe."
   ]
  },
  {
   "cell_type": "code",
   "execution_count": 19,
   "metadata": {},
   "outputs": [],
   "source": [
    "# combine files slice the year add to columns\n",
    "txt_list = []\n",
    "files = glob.glob(name_path + \"/*.txt\")\n",
    "\n",
    "for file in files:\n",
    "    year = year = os.path.basename(file)[3:7]\n",
    "    txt_list.append(pd.read_csv(file, header=None).assign(year=year))\n",
    "\n",
    "df_comb = pd.concat(txt_list, ignore_index=True)\n",
    "df_comb.to_csv(\"name.csv\", header=False, index=False)"
   ]
  },
  {
   "cell_type": "markdown",
   "metadata": {},
   "source": [
    "#### Name file path."
   ]
  },
  {
   "cell_type": "code",
   "execution_count": 20,
   "metadata": {},
   "outputs": [],
   "source": [
    "name_csv = 'name.csv'\n",
    "df_name = pd.read_csv(name_csv)"
   ]
  },
  {
   "cell_type": "code",
   "execution_count": 21,
   "metadata": {},
   "outputs": [],
   "source": [
    "df_name = pd.DataFrame(np.vstack([df_name.columns, df_name]))"
   ]
  },
  {
   "cell_type": "markdown",
   "metadata": {},
   "source": [
    "#### Data Checking"
   ]
  },
  {
   "cell_type": "code",
   "execution_count": 22,
   "metadata": {},
   "outputs": [
    {
     "data": {
      "text/html": [
       "<div>\n",
       "<style scoped>\n",
       "    .dataframe tbody tr th:only-of-type {\n",
       "        vertical-align: middle;\n",
       "    }\n",
       "\n",
       "    .dataframe tbody tr th {\n",
       "        vertical-align: top;\n",
       "    }\n",
       "\n",
       "    .dataframe thead th {\n",
       "        text-align: right;\n",
       "    }\n",
       "</style>\n",
       "<table border=\"1\" class=\"dataframe\">\n",
       "  <thead>\n",
       "    <tr style=\"text-align: right;\">\n",
       "      <th></th>\n",
       "      <th>name</th>\n",
       "      <th>sex</th>\n",
       "      <th>births</th>\n",
       "      <th>year</th>\n",
       "    </tr>\n",
       "  </thead>\n",
       "  <tbody>\n",
       "    <tr>\n",
       "      <th>0</th>\n",
       "      <td>Mary</td>\n",
       "      <td>F</td>\n",
       "      <td>7065</td>\n",
       "      <td>1880</td>\n",
       "    </tr>\n",
       "    <tr>\n",
       "      <th>1</th>\n",
       "      <td>Anna</td>\n",
       "      <td>F</td>\n",
       "      <td>2604</td>\n",
       "      <td>1880</td>\n",
       "    </tr>\n",
       "    <tr>\n",
       "      <th>2</th>\n",
       "      <td>Emma</td>\n",
       "      <td>F</td>\n",
       "      <td>2003</td>\n",
       "      <td>1880</td>\n",
       "    </tr>\n",
       "    <tr>\n",
       "      <th>3</th>\n",
       "      <td>Elizabeth</td>\n",
       "      <td>F</td>\n",
       "      <td>1939</td>\n",
       "      <td>1880</td>\n",
       "    </tr>\n",
       "    <tr>\n",
       "      <th>4</th>\n",
       "      <td>Minnie</td>\n",
       "      <td>F</td>\n",
       "      <td>1746</td>\n",
       "      <td>1880</td>\n",
       "    </tr>\n",
       "    <tr>\n",
       "      <th>5</th>\n",
       "      <td>Margaret</td>\n",
       "      <td>F</td>\n",
       "      <td>1578</td>\n",
       "      <td>1880</td>\n",
       "    </tr>\n",
       "    <tr>\n",
       "      <th>6</th>\n",
       "      <td>Ida</td>\n",
       "      <td>F</td>\n",
       "      <td>1472</td>\n",
       "      <td>1880</td>\n",
       "    </tr>\n",
       "    <tr>\n",
       "      <th>7</th>\n",
       "      <td>Alice</td>\n",
       "      <td>F</td>\n",
       "      <td>1414</td>\n",
       "      <td>1880</td>\n",
       "    </tr>\n",
       "    <tr>\n",
       "      <th>8</th>\n",
       "      <td>Bertha</td>\n",
       "      <td>F</td>\n",
       "      <td>1320</td>\n",
       "      <td>1880</td>\n",
       "    </tr>\n",
       "    <tr>\n",
       "      <th>9</th>\n",
       "      <td>Sarah</td>\n",
       "      <td>F</td>\n",
       "      <td>1288</td>\n",
       "      <td>1880</td>\n",
       "    </tr>\n",
       "  </tbody>\n",
       "</table>\n",
       "</div>"
      ],
      "text/plain": [
       "        name sex births  year\n",
       "0       Mary   F   7065  1880\n",
       "1       Anna   F   2604  1880\n",
       "2       Emma   F   2003  1880\n",
       "3  Elizabeth   F   1939  1880\n",
       "4     Minnie   F   1746  1880\n",
       "5   Margaret   F   1578  1880\n",
       "6        Ida   F   1472  1880\n",
       "7      Alice   F   1414  1880\n",
       "8     Bertha   F   1320  1880\n",
       "9      Sarah   F   1288  1880"
      ]
     },
     "execution_count": 22,
     "metadata": {},
     "output_type": "execute_result"
    }
   ],
   "source": [
    "df_name.columns=['name','sex','births','year']\n",
    "df_name.head(10)"
   ]
  },
  {
   "cell_type": "code",
   "execution_count": 23,
   "metadata": {},
   "outputs": [
    {
     "data": {
      "text/plain": [
       "7828184"
      ]
     },
     "execution_count": 23,
     "metadata": {},
     "output_type": "execute_result"
    }
   ],
   "source": [
    "df_name.size"
   ]
  },
  {
   "cell_type": "code",
   "execution_count": 24,
   "metadata": {},
   "outputs": [
    {
     "data": {
      "text/plain": [
       "name      object\n",
       "sex       object\n",
       "births    object\n",
       "year      object\n",
       "dtype: object"
      ]
     },
     "execution_count": 24,
     "metadata": {},
     "output_type": "execute_result"
    }
   ],
   "source": [
    "df_name.dtypes"
   ]
  },
  {
   "cell_type": "code",
   "execution_count": 25,
   "metadata": {},
   "outputs": [
    {
     "data": {
      "text/plain": [
       "name      0\n",
       "sex       0\n",
       "births    0\n",
       "year      0\n",
       "dtype: int64"
      ]
     },
     "execution_count": 25,
     "metadata": {},
     "output_type": "execute_result"
    }
   ],
   "source": [
    "df_name.isnull().isnull().sum()"
   ]
  },
  {
   "cell_type": "code",
   "execution_count": 26,
   "metadata": {},
   "outputs": [],
   "source": [
    "#change types and convert sex to 0 or 1\n",
    "df_name['year'] = pd.to_numeric(df_name['year'])\n",
    "df_name['births'] = pd.to_numeric(df_name['births'])\n",
    "df_name.sex.replace({'F':0,'M':1}, inplace=True)"
   ]
  },
  {
   "cell_type": "code",
   "execution_count": 27,
   "metadata": {},
   "outputs": [
    {
     "data": {
      "text/html": [
       "<div>\n",
       "<style scoped>\n",
       "    .dataframe tbody tr th:only-of-type {\n",
       "        vertical-align: middle;\n",
       "    }\n",
       "\n",
       "    .dataframe tbody tr th {\n",
       "        vertical-align: top;\n",
       "    }\n",
       "\n",
       "    .dataframe thead th {\n",
       "        text-align: right;\n",
       "    }\n",
       "</style>\n",
       "<table border=\"1\" class=\"dataframe\">\n",
       "  <thead>\n",
       "    <tr style=\"text-align: right;\">\n",
       "      <th></th>\n",
       "      <th>name</th>\n",
       "      <th>sex</th>\n",
       "      <th>births</th>\n",
       "      <th>year</th>\n",
       "    </tr>\n",
       "  </thead>\n",
       "  <tbody>\n",
       "    <tr>\n",
       "      <th>0</th>\n",
       "      <td>61717</td>\n",
       "      <td>0</td>\n",
       "      <td>7065</td>\n",
       "      <td>1880</td>\n",
       "    </tr>\n",
       "    <tr>\n",
       "      <th>1</th>\n",
       "      <td>6272</td>\n",
       "      <td>0</td>\n",
       "      <td>2604</td>\n",
       "      <td>1880</td>\n",
       "    </tr>\n",
       "    <tr>\n",
       "      <th>2</th>\n",
       "      <td>28345</td>\n",
       "      <td>0</td>\n",
       "      <td>2003</td>\n",
       "      <td>1880</td>\n",
       "    </tr>\n",
       "    <tr>\n",
       "      <th>3</th>\n",
       "      <td>27550</td>\n",
       "      <td>0</td>\n",
       "      <td>1939</td>\n",
       "      <td>1880</td>\n",
       "    </tr>\n",
       "    <tr>\n",
       "      <th>4</th>\n",
       "      <td>64522</td>\n",
       "      <td>0</td>\n",
       "      <td>1746</td>\n",
       "      <td>1880</td>\n",
       "    </tr>\n",
       "    <tr>\n",
       "      <th>...</th>\n",
       "      <td>...</td>\n",
       "      <td>...</td>\n",
       "      <td>...</td>\n",
       "      <td>...</td>\n",
       "    </tr>\n",
       "    <tr>\n",
       "      <th>1957041</th>\n",
       "      <td>98291</td>\n",
       "      <td>1</td>\n",
       "      <td>5</td>\n",
       "      <td>2018</td>\n",
       "    </tr>\n",
       "    <tr>\n",
       "      <th>1957042</th>\n",
       "      <td>98360</td>\n",
       "      <td>1</td>\n",
       "      <td>5</td>\n",
       "      <td>2018</td>\n",
       "    </tr>\n",
       "    <tr>\n",
       "      <th>1957043</th>\n",
       "      <td>98375</td>\n",
       "      <td>1</td>\n",
       "      <td>5</td>\n",
       "      <td>2018</td>\n",
       "    </tr>\n",
       "    <tr>\n",
       "      <th>1957044</th>\n",
       "      <td>98382</td>\n",
       "      <td>1</td>\n",
       "      <td>5</td>\n",
       "      <td>2018</td>\n",
       "    </tr>\n",
       "    <tr>\n",
       "      <th>1957045</th>\n",
       "      <td>98399</td>\n",
       "      <td>1</td>\n",
       "      <td>5</td>\n",
       "      <td>2018</td>\n",
       "    </tr>\n",
       "  </tbody>\n",
       "</table>\n",
       "<p>1957046 rows × 4 columns</p>\n",
       "</div>"
      ],
      "text/plain": [
       "          name  sex  births  year\n",
       "0        61717    0    7065  1880\n",
       "1         6272    0    2604  1880\n",
       "2        28345    0    2003  1880\n",
       "3        27550    0    1939  1880\n",
       "4        64522    0    1746  1880\n",
       "...        ...  ...     ...   ...\n",
       "1957041  98291    1       5  2018\n",
       "1957042  98360    1       5  2018\n",
       "1957043  98375    1       5  2018\n",
       "1957044  98382    1       5  2018\n",
       "1957045  98399    1       5  2018\n",
       "\n",
       "[1957046 rows x 4 columns]"
      ]
     },
     "execution_count": 27,
     "metadata": {},
     "output_type": "execute_result"
    }
   ],
   "source": [
    "#convert name object to numerical values\n",
    "df_name['name'] = LabelEncoder().fit_transform(df_name['name'].values)\n",
    "df_name"
   ]
  },
  {
   "cell_type": "code",
   "execution_count": 28,
   "metadata": {},
   "outputs": [
    {
     "data": {
      "text/html": [
       "<div>\n",
       "<style scoped>\n",
       "    .dataframe tbody tr th:only-of-type {\n",
       "        vertical-align: middle;\n",
       "    }\n",
       "\n",
       "    .dataframe tbody tr th {\n",
       "        vertical-align: top;\n",
       "    }\n",
       "\n",
       "    .dataframe thead th {\n",
       "        text-align: right;\n",
       "    }\n",
       "</style>\n",
       "<table border=\"1\" class=\"dataframe\">\n",
       "  <thead>\n",
       "    <tr style=\"text-align: right;\">\n",
       "      <th></th>\n",
       "      <th>name</th>\n",
       "      <th>sex</th>\n",
       "      <th>births</th>\n",
       "      <th>year</th>\n",
       "      <th>name_ratio</th>\n",
       "    </tr>\n",
       "  </thead>\n",
       "  <tbody>\n",
       "    <tr>\n",
       "      <th>0</th>\n",
       "      <td>61717</td>\n",
       "      <td>0</td>\n",
       "      <td>7065</td>\n",
       "      <td>1880</td>\n",
       "      <td>2.009083e-05</td>\n",
       "    </tr>\n",
       "    <tr>\n",
       "      <th>1</th>\n",
       "      <td>6272</td>\n",
       "      <td>0</td>\n",
       "      <td>2604</td>\n",
       "      <td>1880</td>\n",
       "      <td>7.405027e-06</td>\n",
       "    </tr>\n",
       "    <tr>\n",
       "      <th>2</th>\n",
       "      <td>28345</td>\n",
       "      <td>0</td>\n",
       "      <td>2003</td>\n",
       "      <td>1880</td>\n",
       "      <td>5.695956e-06</td>\n",
       "    </tr>\n",
       "    <tr>\n",
       "      <th>3</th>\n",
       "      <td>27550</td>\n",
       "      <td>0</td>\n",
       "      <td>1939</td>\n",
       "      <td>1880</td>\n",
       "      <td>5.513958e-06</td>\n",
       "    </tr>\n",
       "    <tr>\n",
       "      <th>4</th>\n",
       "      <td>64522</td>\n",
       "      <td>0</td>\n",
       "      <td>1746</td>\n",
       "      <td>1880</td>\n",
       "      <td>4.965122e-06</td>\n",
       "    </tr>\n",
       "    <tr>\n",
       "      <th>...</th>\n",
       "      <td>...</td>\n",
       "      <td>...</td>\n",
       "      <td>...</td>\n",
       "      <td>...</td>\n",
       "      <td>...</td>\n",
       "    </tr>\n",
       "    <tr>\n",
       "      <th>1957041</th>\n",
       "      <td>98291</td>\n",
       "      <td>1</td>\n",
       "      <td>5</td>\n",
       "      <td>2018</td>\n",
       "      <td>1.421856e-08</td>\n",
       "    </tr>\n",
       "    <tr>\n",
       "      <th>1957042</th>\n",
       "      <td>98360</td>\n",
       "      <td>1</td>\n",
       "      <td>5</td>\n",
       "      <td>2018</td>\n",
       "      <td>1.421856e-08</td>\n",
       "    </tr>\n",
       "    <tr>\n",
       "      <th>1957043</th>\n",
       "      <td>98375</td>\n",
       "      <td>1</td>\n",
       "      <td>5</td>\n",
       "      <td>2018</td>\n",
       "      <td>1.421856e-08</td>\n",
       "    </tr>\n",
       "    <tr>\n",
       "      <th>1957044</th>\n",
       "      <td>98382</td>\n",
       "      <td>1</td>\n",
       "      <td>5</td>\n",
       "      <td>2018</td>\n",
       "      <td>1.421856e-08</td>\n",
       "    </tr>\n",
       "    <tr>\n",
       "      <th>1957045</th>\n",
       "      <td>98399</td>\n",
       "      <td>1</td>\n",
       "      <td>5</td>\n",
       "      <td>2018</td>\n",
       "      <td>1.421856e-08</td>\n",
       "    </tr>\n",
       "  </tbody>\n",
       "</table>\n",
       "<p>1957046 rows × 5 columns</p>\n",
       "</div>"
      ],
      "text/plain": [
       "          name  sex  births  year    name_ratio\n",
       "0        61717    0    7065  1880  2.009083e-05\n",
       "1         6272    0    2604  1880  7.405027e-06\n",
       "2        28345    0    2003  1880  5.695956e-06\n",
       "3        27550    0    1939  1880  5.513958e-06\n",
       "4        64522    0    1746  1880  4.965122e-06\n",
       "...        ...  ...     ...   ...           ...\n",
       "1957041  98291    1       5  2018  1.421856e-08\n",
       "1957042  98360    1       5  2018  1.421856e-08\n",
       "1957043  98375    1       5  2018  1.421856e-08\n",
       "1957044  98382    1       5  2018  1.421856e-08\n",
       "1957045  98399    1       5  2018  1.421856e-08\n",
       "\n",
       "[1957046 rows x 5 columns]"
      ]
     },
     "execution_count": 28,
     "metadata": {},
     "output_type": "execute_result"
    }
   ],
   "source": [
    "# group by name and sex and year count the raito of birth\n",
    "df_name['name_ratio'] = df_name.births / df_name.births.sum()\n",
    "df_name"
   ]
  },
  {
   "cell_type": "markdown",
   "metadata": {},
   "source": [
    "#### create traning and testing set"
   ]
  },
  {
   "cell_type": "code",
   "execution_count": 29,
   "metadata": {},
   "outputs": [],
   "source": [
    "#convert object to features\n",
    "X = df_name[['name','births','year']] # feature 1,2,3\n",
    "Y = df_name['sex']  # label\n",
    "\n",
    "#Obersvation assignment 33% to testing set. 67% for tranning set \n",
    "X_train, X_test, y_train, y_test = train_test_split(X, Y, test_size=0.33, random_state = 0)"
   ]
  },
  {
   "cell_type": "markdown",
   "metadata": {},
   "source": [
    "#### 2. For the first model determine for each name which sex used the name most in the training data. How good is the model on the test set? How to measure good?"
   ]
  },
  {
   "cell_type": "code",
   "execution_count": 30,
   "metadata": {},
   "outputs": [],
   "source": [
    "count = pd.DataFrame({'name': X_test['name'], \n",
    "                      'sex': y_test}).groupby(['name', 'sex'])['name']\\\n",
    "                                     .count()\n",
    "#  count most sex determine name\n",
    "def first_model(name, count):\n",
    "    if (name,0) in count:\n",
    "        female_count = count[(name, 0)]\n",
    "    else:\n",
    "        female_count = 0\n",
    "    if (name,1) in count:\n",
    "        male_count = count[(name, 1)]\n",
    "    else:\n",
    "        male_count = 0\n",
    "    if female_count > male_count:\n",
    "        return 0 \n",
    "    else:\n",
    "        return 1 "
   ]
  },
  {
   "cell_type": "markdown",
   "metadata": {},
   "source": [
    "####  By mearse how good or the fitness. \n",
    "* use 33% test_set get response in this case is  660k columns out  of 2000k  \n",
    "* compare with actual value in y test get the accuracy\n",
    "* could try more different  test sizes  from 20 to 40 "
   ]
  },
  {
   "cell_type": "code",
   "execution_count": 31,
   "metadata": {},
   "outputs": [
    {
     "name": "stdout",
     "output_type": "stream",
     "text": [
      "accuracy of model1 test: 90.80634722045876 %\n"
     ]
    }
   ],
   "source": [
    "x_test_result = pd.Series(X_test['name']).apply(lambda x: first_model(x, count))\n",
    "model_test_score = accuracy_score(y_test, x_test_result)\n",
    "print('accuracy of model1 test:',model_test_score*100,'%')"
   ]
  },
  {
   "cell_type": "markdown",
   "metadata": {},
   "source": [
    "#### 3. For the second model create a decision tree using the training data. How good is the model on the test set?"
   ]
  },
  {
   "cell_type": "code",
   "execution_count": 32,
   "metadata": {},
   "outputs": [
    {
     "name": "stdout",
     "output_type": "stream",
     "text": [
      "accuracy of model2 test: 93.24431038700827 %\n",
      "accuracy of model2 train: 99.88651789936091 %\n"
     ]
    }
   ],
   "source": [
    "# use sklearn descision tree train model\n",
    "second_model = tree.DecisionTreeClassifier()\n",
    "second_model.fit(X_train,y_train)\n",
    "print('accuracy of model2 test:',second_model.score(X_test,y_test)*100,'%')\n",
    "print('accuracy of model2 train:',second_model.score(X_train,y_train)*100,'%')"
   ]
  },
  {
   "cell_type": "markdown",
   "metadata": {},
   "source": [
    "#### 4. How do the two models compare?"
   ]
  },
  {
   "cell_type": "markdown",
   "metadata": {},
   "source": [
    "* from above question we can see second model has better accuracy or fitness to actual value in y_test\n",
    "* decision tree has considered year may affect people's choices, there are may be a trend along the year"
   ]
  },
  {
   "cell_type": "code",
   "execution_count": 33,
   "metadata": {},
   "outputs": [],
   "source": [
    "# further compare\n",
    "# take top 1000 data for comparsion\n",
    "X = df_name[['name','births','year']].head(1000)\n",
    "Y = df_name['sex'].head(1000)\n",
    "\n",
    "#assign differ test size. try 38% test\n",
    "X_train, X_test, y_train, y_test = train_test_split(X, Y, test_size=0.38, shuffle=True)"
   ]
  },
  {
   "cell_type": "code",
   "execution_count": 34,
   "metadata": {},
   "outputs": [
    {
     "name": "stdout",
     "output_type": "stream",
     "text": [
      "accuracy of model1 test: 91.57894736842105 %\n"
     ]
    }
   ],
   "source": [
    "x_test_result = pd.Series(X_test['name']).apply(lambda x: first_model(x, count))\n",
    "model_test_score = accuracy_score(y_test, x_test_result)\n",
    "print('accuracy of model1 test:',model_test_score*100,'%')"
   ]
  },
  {
   "cell_type": "code",
   "execution_count": 35,
   "metadata": {},
   "outputs": [
    {
     "name": "stdout",
     "output_type": "stream",
     "text": [
      "accuracy of model2 test: 94.47368421052632 %\n"
     ]
    }
   ],
   "source": [
    "second_model = tree.DecisionTreeClassifier()\n",
    "second_model.fit(X_train,y_train)\n",
    "print('accuracy of model2 test:',second_model.score(X_test,y_test)*100,'%')"
   ]
  },
  {
   "cell_type": "markdown",
   "metadata": {},
   "source": [
    "* reduce features take out year"
   ]
  },
  {
   "cell_type": "code",
   "execution_count": 65,
   "metadata": {},
   "outputs": [],
   "source": [
    "X = df_name[['name','births']].head(1000)\n",
    "Y = df_name['sex'].head(1000)\n",
    "\n",
    "#assign differ test size. try 38% test\n",
    "X_train, X_test, y_train, y_test = train_test_split(X, Y, test_size=0.38, shuffle=True)"
   ]
  },
  {
   "cell_type": "code",
   "execution_count": 66,
   "metadata": {},
   "outputs": [
    {
     "name": "stdout",
     "output_type": "stream",
     "text": [
      "accuracy of model1: 93.15789473684211 %\n"
     ]
    }
   ],
   "source": [
    "x_test_result = pd.Series(X_test['name']).apply(lambda x: first_model(x, count))\n",
    "model_test_score = accuracy_score(y_test, x_test_result)\n",
    "print('accuracy of model1:',model_test_score*100,'%')"
   ]
  },
  {
   "cell_type": "code",
   "execution_count": 67,
   "metadata": {},
   "outputs": [
    {
     "name": "stdout",
     "output_type": "stream",
     "text": [
      "accuracy of model2 without year: 93.42105263157895 %\n"
     ]
    }
   ],
   "source": [
    "second_model = tree.DecisionTreeClassifier()\n",
    "second_model.fit(X_train,y_train)\n",
    "print('accuracy of model2 without year:',second_model.score(X_test,y_test)*100,'%')"
   ]
  },
  {
   "cell_type": "markdown",
   "metadata": {},
   "source": [
    "* The result getting close without year, It seems year was take role of accuracy\n",
    "* Second model is best choice in this case"
   ]
  }
 ],
 "metadata": {
  "kernelspec": {
   "display_name": "Python 3",
   "language": "python",
   "name": "python3"
  },
  "language_info": {
   "codemirror_mode": {
    "name": "ipython",
    "version": 3
   },
   "file_extension": ".py",
   "mimetype": "text/x-python",
   "name": "python",
   "nbconvert_exporter": "python",
   "pygments_lexer": "ipython3",
   "version": "3.7.5"
  }
 },
 "nbformat": 4,
 "nbformat_minor": 4
}
